{
 "cells": [
  {
   "cell_type": "code",
   "execution_count": null,
   "metadata": {},
   "outputs": [],
   "source": [
    "import numpy as np\n",
    "import matplotlib.pyplot as plt\n",
    "from copy import deepcopy\n",
    "\n",
    "DEFAULT_RESOLUTION=30\n",
    "DEFAULT_SIMPLE_ENERGY_ALPHA=2"
   ]
  },
  {
   "cell_type": "code",
   "execution_count": null,
   "metadata": {},
   "outputs": [],
   "source": [
    "# Definition of a Curve\n",
    "class Curve:\n",
    "    # Constructor\n",
    "    def __init__(self, list_of_points, closed=False):\n",
    "        self.list_of_points = list_of_points\n",
    "        self.closed = closed\n",
    "        self.J = len(list_of_points)\n",
    "    \n",
    "    # Square Bracket Overload\n",
    "    def __getitem__(self, key):\n",
    "        return self.list_of_points[key % self.J]\n",
    "    def __setitem__(self, key, value):\n",
    "        self.list_of_points[key] = value\n",
    "    \n",
    "    # Length\n",
    "    def __len__(self):\n",
    "        return self.J\n",
    "    \n",
    "    # Curve Addition\n",
    "    def __add__(self, otherCurve):\n",
    "        if len(self) == len(otherCurve) and self.closed == otherCurve.closed:\n",
    "            return Curve([self[i] + otherCurve[i] for i in range(len(self))])\n",
    "    \n",
    "    # Curve Length\n",
    "    def curveLength(self):\n",
    "        l = 0\n",
    "        for i in range(self.J - 1):\n",
    "            edgeLength = np.linalg.norm(self[i + 1] - self[i])\n",
    "            l += edgeLength ** 2\n",
    "        if self.closed:\n",
    "            edgeLength = np.linalg.norm(self[-1] - self[0])\n",
    "            l += edgeLength ** 2\n",
    "        return l"
   ]
  },
  {
   "cell_type": "code",
   "execution_count": null,
   "metadata": {},
   "outputs": [],
   "source": [
    "# Simple Curve Energy Version 2 (Averaged over 4 points)\n",
    "def simpleCurveEnergy2(curve, alpha=DEFAULT_SIMPLE_ENERGY_ALPHA):\n",
    "    J = curve.J\n",
    "\n",
    "    integral = 0\n",
    "    for i in range(J):\n",
    "        for j in range(J):\n",
    "            # Undefined for |i - j| <= 1\n",
    "            if abs(i - j) <= 1 or abs(i - j + J) <= 1 or abs(i - j - J) <= 1:\n",
    "                continue\n",
    "\n",
    "            contribution = 1 / np.linalg.norm(curve[i] - curve[j]) ** alpha + 1 / np.linalg.norm(curve[i] - curve[j+1]) ** alpha\n",
    "            contribution += 1 / np.linalg.norm(curve[i+1] - curve[j]) ** alpha + 1 / np.linalg.norm(curve[i+1] - curve[j+1]) ** alpha\n",
    "            contribution /= 4\n",
    "            integral += contribution * np.linalg.norm(curve[i] - curve[i+1]) * np.linalg.norm(curve[j] - curve[j+1])\n",
    "    \n",
    "    return integral\n"
   ]
  },
  {
   "cell_type": "code",
   "execution_count": null,
   "metadata": {},
   "outputs": [],
   "source": [
    "# p, q, T are all array\n",
    "def kernelalphabeta(p, q, T, alpha=2, beta=4):\n",
    "    pmq = p - q\n",
    "    numerator = np.linalg.norm(np.cross(T, pmq)) ** alpha\n",
    "    denominator = np.linalg.norm(pmq) ** beta\n",
    "    return numerator / denominator\n",
    "\n",
    "# Pass a list of points.\n",
    "def tangentPointEnergy(curve):\n",
    "    J = len(curve)\n",
    "\n",
    "    e = 0\n",
    "    for i in range(J):\n",
    "        for j in range(J):\n",
    "            if abs(i - j) > 1 and abs(i - j + J) > 1 and abs(i - j - J) > 1:\n",
    "                xi = curve[i % J]\n",
    "                xipm = curve[(i+1) % J]\n",
    "                xj = curve[j % J]\n",
    "                xjpm = curve[(j+1) % J]\n",
    "                xI = xipm - xi\n",
    "                lI = np.linalg.norm(xI)\n",
    "                TI = xI / lI\n",
    "                kernelAB = 0\n",
    "                kernelAB += kernelalphabeta(xi, xj, TI) \n",
    "                kernelAB += kernelalphabeta(xi, xjpm, TI) \n",
    "                kernelAB += kernelalphabeta(xipm, xj, TI) \n",
    "                kernelAB += kernelalphabeta(xipm, xjpm, TI)\n",
    "                kernelAB *= 0.25 * lI * np.linalg.norm(xjpm-xj)\n",
    "                e += kernelAB\n",
    "                #print(f\"{i}, {j}: kernelAB: {kernelAB}\")\n",
    "\n",
    "    return e"
   ]
  },
  {
   "cell_type": "code",
   "execution_count": null,
   "metadata": {},
   "outputs": [],
   "source": [
    "def curveFromFourierCoefficients(xa, xb, ya, yb, za, zb, resolution=DEFAULT_RESOLUTION):\n",
    "    J = len(xa) - 1\n",
    "\n",
    "    def fourierFromCoefficient(an, bn):\n",
    "        return lambda x : an[0]/2 + sum([np.cos(x)*an[i] + np.sin(x)*bn[i] for i in range(1, J + 1)])\n",
    "    \n",
    "    fx = fourierFromCoefficient(xa, xb)\n",
    "    fy = fourierFromCoefficient(ya, yb)\n",
    "    fz = fourierFromCoefficient(za, zb)\n",
    "\n",
    "    points = []\n",
    "    for i in range(resolution):\n",
    "        theta = 2 * np.pi * i / resolution\n",
    "        points.append(np.array([\n",
    "            fx(theta),\n",
    "            fy(theta),\n",
    "            fz(theta)\n",
    "        ]))\n",
    "    \n",
    "    return Curve(points, True)"
   ]
  },
  {
   "cell_type": "code",
   "execution_count": null,
   "metadata": {},
   "outputs": [],
   "source": [
    "def curveFourierDifferential(xa, xb, ya, yb, za, zb, perturbation=0.001, resolution=DEFAULT_RESOLUTION, alpha=DEFAULT_SIMPLE_ENERGY_ALPHA, energyFunction=simpleCurveEnergy2):\n",
    "    J = len(xa) - 1\n",
    "\n",
    "    variables = np.concatenate([xa, xb, ya, yb, za, zb])\n",
    "    differential = np.zeros(len(variables), dtype=\"float64\")\n",
    "    for i in range(len(variables)):\n",
    "        temp = variables[i]\n",
    "        variables[i] += perturbation\n",
    "        xac, xbc, yac, ybc, zac, zbc = np.split(variables, 6)\n",
    "        tempCurve = curveFromFourierCoefficients(xac, xbc, yac, ybc, zac, zbc, resolution=resolution)\n",
    "        energyP = energyFunction(tempCurve)\n",
    "        variables[i] = temp\n",
    "        variables[i] -= perturbation\n",
    "        xac, xbc, yac, ybc, zac, zbc = np.split(variables, 6)\n",
    "        tempCurve = curveFromFourierCoefficients(xac, xbc, yac, ybc, zac, zbc, resolution=resolution)\n",
    "        energyN = energyFunction(tempCurve)\n",
    "        differential[i] = (energyP - energyN) / (2 * perturbation)\n",
    "    \n",
    "    return differential"
   ]
  },
  {
   "cell_type": "code",
   "execution_count": null,
   "metadata": {},
   "outputs": [],
   "source": [
    "def curvePlot(curve):\n",
    "    J = curve.J\n",
    "\n",
    "    xpoints = []\n",
    "    ypoints = []\n",
    "    zpoints = []\n",
    "    for i in range(J):\n",
    "        xpoints.append(curve[i][0])\n",
    "        ypoints.append(curve[i][1])\n",
    "        zpoints.append(curve[i][2])\n",
    "    \n",
    "    fig = plt.figure()\n",
    "    ax = fig.add_subplot(projection=\"3d\")\n",
    "    ax.plot(xpoints, ypoints, zpoints)\n",
    "    ax.set_xlim((-2,2))\n",
    "    ax.set_ylim((-2,2))\n",
    "    ax.set_zlim((-2,2))\n",
    "    plt.show()"
   ]
  },
  {
   "cell_type": "code",
   "execution_count": null,
   "metadata": {},
   "outputs": [],
   "source": [
    "def fourierCurveSDM(xa, xb, ya, yb, za, zb, resolution=DEFAULT_RESOLUTION, alpha=DEFAULT_SIMPLE_ENERGY_ALPHA, M=100, stepsize=0.01, qPlot=False, energyFunction=simpleCurveEnergy2):\n",
    "    x = np.concatenate([xa, xb, ya, yb, za, zb])\n",
    "    for t in range(M):\n",
    "        xac, xbc, yac, ybc, zac, zbc = np.split(x, 6)\n",
    "        differential = curveFourierDifferential(xac, xbc, yac, ybc, zac, zbc, perturbation=0.0001, resolution=resolution, alpha=alpha, energyFunction=energyFunction)\n",
    "        x = x - stepsize * differential\n",
    "\n",
    "        if qPlot:\n",
    "            tempcurve = curveFromFourierCoefficients(xac, xbc, yac, ybc, zac, zbc, resolution=resolution)\n",
    "            print(energyFunction(tempcurve))\n",
    "            curvePlot(tempcurve)\n",
    "    "
   ]
  },
  {
   "cell_type": "code",
   "execution_count": null,
   "metadata": {},
   "outputs": [],
   "source": [
    "xa = np.array([0, 1, 0, 0], dtype=\"float64\")\n",
    "xb = np.array([0, 0, 0, 0], dtype=\"float64\")\n",
    "ya = np.array([0, 0, 0, 0], dtype=\"float64\")\n",
    "yb = np.array([0, 1, 0, 0], dtype=\"float64\")\n",
    "za = np.array([0, 0, 0, 0], dtype=\"float64\")\n",
    "zb = np.array([0, 0, 0, 0], dtype=\"float64\")\n",
    "\n",
    "curve = curveFromFourierCoefficients(xa, xb, ya, yb, za, zb, resolution=10)\n",
    "print(simpleCurveEnergy2(curve))\n",
    "#curvePlot(curve)"
   ]
  },
  {
   "cell_type": "code",
   "execution_count": null,
   "metadata": {},
   "outputs": [],
   "source": [
    "curveFourierDifferential(xa, xb, ya, yb, za, zb, 0.001, energyFunction=tangentPointEnergy)"
   ]
  },
  {
   "cell_type": "code",
   "execution_count": null,
   "metadata": {},
   "outputs": [],
   "source": [
    "fourierCurveSDM(xa, xb, ya, yb, za, zb, resolution=10, alpha=1, M=1000, stepsize=0.04, qPlot=True, energyFunction=tangentPointEnergy)"
   ]
  },
  {
   "cell_type": "code",
   "execution_count": null,
   "metadata": {},
   "outputs": [],
   "source": []
  }
 ],
 "metadata": {
  "kernelspec": {
   "display_name": "Python 3",
   "language": "python",
   "name": "python3"
  },
  "language_info": {
   "codemirror_mode": {
    "name": "ipython",
    "version": 3
   },
   "file_extension": ".py",
   "mimetype": "text/x-python",
   "name": "python",
   "nbconvert_exporter": "python",
   "pygments_lexer": "ipython3",
   "version": "3.10.9"
  },
  "orig_nbformat": 4,
  "vscode": {
   "interpreter": {
    "hash": "e7370f93d1d0cde622a1f8e1c04877d8463912d04d973331ad4851f04de6915a"
   }
  }
 },
 "nbformat": 4,
 "nbformat_minor": 2
}
