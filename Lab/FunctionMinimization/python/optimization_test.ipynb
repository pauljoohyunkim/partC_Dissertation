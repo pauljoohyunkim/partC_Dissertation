{
 "cells": [
  {
   "cell_type": "code",
   "execution_count": 1,
   "metadata": {},
   "outputs": [],
   "source": [
    "import optimizer\n",
    "import numpy as np\n",
    "import matplotlib.pyplot as plt\n",
    "import curve_energy"
   ]
  },
  {
   "cell_type": "code",
   "execution_count": null,
   "metadata": {},
   "outputs": [],
   "source": [
    "# Test function\n",
    "def quadratic(arg):\n",
    "    return arg[0] ** 2 + arg[1] ** 2\n",
    "\n",
    "def dQuadratic(arg):\n",
    "    return 2 * np.array([arg[0], arg[1]])"
   ]
  },
  {
   "cell_type": "code",
   "execution_count": null,
   "metadata": {},
   "outputs": [],
   "source": [
    "# SDM Test\n",
    "optimizer.sdm(quadratic, dQuadratic, alpha=0.1, x0=np.array([1,2]), visualize_x=print, visualize_f=print)"
   ]
  },
  {
   "cell_type": "code",
   "execution_count": null,
   "metadata": {},
   "outputs": [],
   "source": [
    "# Curve Generation from Fourier Test\n",
    "curve = curve_energy.curveFromFourierCoefficients([0, 1, 0], [0, 0, 0], [0,0,0],[0,1,0],[0,0,0],[0,0,0], resolution=40)\n",
    "print(curve_energy.simpleCurveEnergy2(curve, alpha=0.5))\n",
    "xpoints = []\n",
    "ypoints = []\n",
    "zpoints = []\n",
    "for i in range(curve.J):\n",
    "    xpoints.append(curve[i][0])\n",
    "    ypoints.append(curve[i][1])\n",
    "    zpoints.append(curve[i][2])\n",
    "\n",
    "ax = plt.figure().add_subplot(projection='3d')\n",
    "ax.plot(xpoints, ypoints, zpoints)\n",
    "plt.show()"
   ]
  },
  {
   "cell_type": "code",
   "execution_count": null,
   "metadata": {},
   "outputs": [],
   "source": [
    "def fourierCoefficientsToPlot(xabyabzab):\n",
    "    xa, xb, ya, yb, za, zb = np.split(xabyabzab, 6)\n",
    "    curve = curve_energy.curveFromFourierCoefficients(xa, xb, ya, yb, za, zb)\n",
    "    xpoints = []\n",
    "    ypoints = []\n",
    "    zpoints = []\n",
    "    for i in range(curve.J):\n",
    "        xpoints.append(curve[i][0])\n",
    "        ypoints.append(curve[i][1])\n",
    "        zpoints.append(curve[i][2])\n",
    "    ax = plt.figure().add_subplot(projection='3d')\n",
    "    ax.plot(xpoints, ypoints, zpoints)\n",
    "    plt.show()"
   ]
  },
  {
   "cell_type": "code",
   "execution_count": 4,
   "metadata": {},
   "outputs": [
    {
     "name": "stdout",
     "output_type": "stream",
     "text": [
      "[ 8.88178420e-13 -3.65284491e+00 -4.65284491e+00  0.00000000e+00\n",
      "  1.77635684e-12  1.77635684e-12  0.00000000e+00  0.00000000e+00\n",
      "  0.00000000e+00  0.00000000e+00 -3.65284491e+00 -4.65284491e+00\n",
      "  0.00000000e+00  0.00000000e+00  0.00000000e+00  0.00000000e+00\n",
      "  0.00000000e+00  0.00000000e+00]\n",
      "[8.88178420e-13 1.00000090e+00 8.99709640e-07 0.00000000e+00\n",
      " 8.88178420e-12 8.88178420e-12 0.00000000e+00 1.42108547e-11\n",
      " 1.42108547e-11 0.00000000e+00 1.00000090e+00 8.99708752e-07\n",
      " 0.00000000e+00 0.00000000e+00 0.00000000e+00 0.00000000e+00\n",
      " 0.00000000e+00 0.00000000e+00]\n",
      "[ 1.77635684e-12 -3.65284402e+00 -4.65284402e+00  0.00000000e+00\n",
      " -1.35891298e-10 -1.36779477e-10  0.00000000e+00 -1.77635684e-10\n",
      " -1.76747506e-10  0.00000000e+00 -3.65284402e+00 -4.65284402e+00\n",
      "  0.00000000e+00  0.00000000e+00  0.00000000e+00  0.00000000e+00\n",
      "  0.00000000e+00  0.00000000e+00]\n",
      "[-5.32907052e-12  1.00000180e+00  1.79941129e-06  0.00000000e+00\n",
      "  1.19904087e-10  1.19015908e-10  0.00000000e+00  1.06581410e-10\n",
      "  1.14575016e-10  0.00000000e+00  1.00000180e+00  1.79942550e-06\n",
      "  0.00000000e+00  0.00000000e+00  0.00000000e+00  0.00000000e+00\n",
      "  0.00000000e+00  0.00000000e+00]\n",
      "[-6.21724894e-12 -3.65284312e+00 -4.65284312e+00  0.00000000e+00\n",
      " -1.59960933e-09 -1.60227387e-09  8.88178420e-13 -1.53566049e-09\n",
      " -1.52766688e-09  0.00000000e+00 -3.65284312e+00 -4.65284312e+00\n",
      "  0.00000000e+00  0.00000000e+00  0.00000000e+00  0.00000000e+00\n",
      "  0.00000000e+00  0.00000000e+00]\n",
      "[8.88178420e-13 1.00000270e+00 2.69902056e-06 0.00000000e+00\n",
      " 1.18571819e-09 1.18305366e-09 8.88178420e-13 1.17861276e-09\n",
      " 1.19371180e-09 0.00000000e+00 1.00000270e+00 2.69922928e-06\n",
      " 0.00000000e+00 0.00000000e+00 0.00000000e+00 0.00000000e+00\n",
      " 0.00000000e+00 0.00000000e+00]\n",
      "[ 8.88178420e-13 -3.65284221e+00 -4.65284221e+00  0.00000000e+00\n",
      " -1.61239910e-08 -1.61266556e-08  8.88178420e-13 -1.61408664e-08\n",
      " -1.61248792e-08  0.00000000e+00 -3.65284222e+00 -4.65284222e+00\n",
      "  0.00000000e+00  0.00000000e+00  0.00000000e+00  0.00000000e+00\n",
      "  0.00000000e+00  0.00000000e+00]\n",
      "[8.88178420e-13 1.00000360e+00 3.59776831e-06 0.00000000e+00\n",
      " 1.22266641e-08 1.22239996e-08 8.88178420e-13 1.22239996e-08\n",
      " 1.22399868e-08 0.00000000e+00 1.00000360e+00 3.59988928e-06\n",
      " 0.00000000e+00 0.00000000e+00 0.00000000e+00 0.00000000e+00\n",
      " 0.00000000e+00 0.00000000e+00]\n",
      "[ 8.88178420e-13 -3.65284130e+00 -4.65284130e+00  0.00000000e+00\n",
      " -1.66367364e-07 -1.66370029e-07  2.66453526e-12 -1.66429537e-07\n",
      " -1.66413550e-07  0.00000000e+00 -3.65284133e+00 -4.65284133e+00\n",
      "  0.00000000e+00  0.00000000e+00  0.00000000e+00  0.00000000e+00\n",
      "  0.00000000e+00  0.00000000e+00]\n",
      "[-6.21724894e-12  1.00000449e+00  4.48758364e-06  0.00000000e+00\n",
      "  1.26248345e-07  1.26245681e-07  2.66453526e-12  1.26228805e-07\n",
      "  1.26259003e-07  0.00000000e+00  1.00000451e+00  4.50945503e-06\n",
      "  0.00000000e+00  0.00000000e+00  0.00000000e+00  0.00000000e+00\n",
      "  0.00000000e+00  0.00000000e+00]\n"
     ]
    }
   ],
   "source": [
    "xabyabzab = np.array([\n",
    "    0, 1.0, 0,\n",
    "    0, 0, 0,\n",
    "    0, 0, 0,\n",
    "    0, 1.0, 0,\n",
    "    0, 0, 0,\n",
    "    0, 0, 0\n",
    "])\n",
    "J = 2\n",
    "optimizer.sdm(curve_energy.simpleCurveEnergy2, curve_energy.simpleCurveEnergy2Gradient, 0.5, xabyabzab, 10, visualize_x=print)\n"
   ]
  },
  {
   "cell_type": "code",
   "execution_count": null,
   "metadata": {},
   "outputs": [],
   "source": []
  }
 ],
 "metadata": {
  "kernelspec": {
   "display_name": "Python 3",
   "language": "python",
   "name": "python3"
  },
  "language_info": {
   "codemirror_mode": {
    "name": "ipython",
    "version": 3
   },
   "file_extension": ".py",
   "mimetype": "text/x-python",
   "name": "python",
   "nbconvert_exporter": "python",
   "pygments_lexer": "ipython3",
   "version": "3.10.9"
  },
  "orig_nbformat": 4,
  "vscode": {
   "interpreter": {
    "hash": "767d51c1340bd893661ea55ea3124f6de3c7a262a8b4abca0554b478b1e2ff90"
   }
  }
 },
 "nbformat": 4,
 "nbformat_minor": 2
}
