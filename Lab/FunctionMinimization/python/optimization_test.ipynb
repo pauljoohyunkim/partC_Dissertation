{
 "cells": [
  {
   "cell_type": "code",
   "execution_count": 33,
   "metadata": {},
   "outputs": [],
   "source": [
    "import optimizer\n",
    "import numpy as np\n",
    "import matplotlib.pyplot as plt\n",
    "import curve_energy"
   ]
  },
  {
   "cell_type": "code",
   "execution_count": null,
   "metadata": {},
   "outputs": [],
   "source": [
    "# Test function\n",
    "def quadratic(arg):\n",
    "    return arg[0] ** 2 + arg[1] ** 2\n",
    "\n",
    "def dQuadratic(arg):\n",
    "    return 2 * np.array([arg[0], arg[1]])"
   ]
  },
  {
   "cell_type": "code",
   "execution_count": null,
   "metadata": {},
   "outputs": [],
   "source": [
    "# SDM Test\n",
    "optimizer.sdm(quadratic, dQuadratic, alpha=0.1, x0=np.array([1,2]), visualize_x=print, visualize_f=print)"
   ]
  },
  {
   "cell_type": "code",
   "execution_count": 34,
   "metadata": {},
   "outputs": [
    {
     "ename": "TypeError",
     "evalue": "simpleCurveEnergy2() got an unexpected keyword argument 'alpha'",
     "output_type": "error",
     "traceback": [
      "\u001b[0;31m---------------------------------------------------------------------------\u001b[0m",
      "\u001b[0;31mTypeError\u001b[0m                                 Traceback (most recent call last)",
      "Cell \u001b[0;32mIn [34], line 3\u001b[0m\n\u001b[1;32m      1\u001b[0m \u001b[39m# Curve Generation from Fourier Test\u001b[39;00m\n\u001b[1;32m      2\u001b[0m curve \u001b[39m=\u001b[39m curve_energy\u001b[39m.\u001b[39mcurveFromFourierCoefficients([\u001b[39m0\u001b[39m, \u001b[39m1\u001b[39m, \u001b[39m0\u001b[39m], [\u001b[39m0\u001b[39m, \u001b[39m0\u001b[39m, \u001b[39m0\u001b[39m], [\u001b[39m0\u001b[39m,\u001b[39m0\u001b[39m,\u001b[39m0\u001b[39m],[\u001b[39m0\u001b[39m,\u001b[39m1\u001b[39m,\u001b[39m0\u001b[39m],[\u001b[39m0\u001b[39m,\u001b[39m0\u001b[39m,\u001b[39m0\u001b[39m],[\u001b[39m0\u001b[39m,\u001b[39m0\u001b[39m,\u001b[39m0\u001b[39m], resolution\u001b[39m=\u001b[39m\u001b[39m20\u001b[39m)\n\u001b[0;32m----> 3\u001b[0m \u001b[39mprint\u001b[39m(curve_energy\u001b[39m.\u001b[39msimpleCurveEnergy2(curve, alpha\u001b[39m=\u001b[39m\u001b[39m0.5\u001b[39m))\n\u001b[1;32m      4\u001b[0m xpoints \u001b[39m=\u001b[39m []\n\u001b[1;32m      5\u001b[0m ypoints \u001b[39m=\u001b[39m []\n",
      "\u001b[0;31mTypeError\u001b[0m: simpleCurveEnergy2() got an unexpected keyword argument 'alpha'"
     ]
    }
   ],
   "source": [
    "# Curve Generation from Fourier Test\n",
    "curve = curve_energy.curveFromFourierCoefficients([0, 1, 0], [0, 0, 0], [0,0,0],[0,1,0],[0,0,0],[0,0,0], resolution=20)\n",
    "print(curve_energy.simpleCurveEnergy2(curve, alpha=0.5))\n",
    "xpoints = []\n",
    "ypoints = []\n",
    "zpoints = []\n",
    "for i in range(curve.J):\n",
    "    xpoints.append(curve[i][0])\n",
    "    ypoints.append(curve[i][1])\n",
    "    zpoints.append(curve[i][2])\n",
    "\n",
    "ax = plt.figure().add_subplot(projection='3d')\n",
    "ax.plot(xpoints, ypoints, zpoints)\n",
    "plt.show()"
   ]
  },
  {
   "cell_type": "code",
   "execution_count": null,
   "metadata": {},
   "outputs": [],
   "source": []
  }
 ],
 "metadata": {
  "kernelspec": {
   "display_name": "Python 3",
   "language": "python",
   "name": "python3"
  },
  "language_info": {
   "codemirror_mode": {
    "name": "ipython",
    "version": 3
   },
   "file_extension": ".py",
   "mimetype": "text/x-python",
   "name": "python",
   "nbconvert_exporter": "python",
   "pygments_lexer": "ipython3",
   "version": "3.10.9"
  },
  "orig_nbformat": 4,
  "vscode": {
   "interpreter": {
    "hash": "767d51c1340bd893661ea55ea3124f6de3c7a262a8b4abca0554b478b1e2ff90"
   }
  }
 },
 "nbformat": 4,
 "nbformat_minor": 2
}
