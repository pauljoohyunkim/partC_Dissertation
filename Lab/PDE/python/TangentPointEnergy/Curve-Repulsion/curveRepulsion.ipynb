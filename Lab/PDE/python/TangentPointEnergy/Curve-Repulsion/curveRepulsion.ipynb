{
 "cells": [
  {
   "cell_type": "code",
   "execution_count": 1,
   "metadata": {},
   "outputs": [],
   "source": [
    "import numpy as np\n",
    "import matplotlib.pyplot as plt\n",
    "from copy import deepcopy"
   ]
  },
  {
   "cell_type": "code",
   "execution_count": 2,
   "metadata": {},
   "outputs": [],
   "source": [
    "# Definition of a Curve\n",
    "class Curve:\n",
    "    # Constructor\n",
    "    def __init__(self, list_of_points, closed=False):\n",
    "        self.list_of_points = list_of_points\n",
    "        self.closed = closed\n",
    "        self.J = len(list_of_points)\n",
    "    \n",
    "    # Square Bracket Overload\n",
    "    def __getitem__(self, key):\n",
    "        return self.list_of_points[key % self.J]\n",
    "    def __setitem__(self, key, value):\n",
    "        self.list_of_points[key] = value\n",
    "    \n",
    "    # Length\n",
    "    def __len__(self):\n",
    "        return self.J\n",
    "    \n",
    "    # Curve Addition\n",
    "    def __add__(self, otherCurve):\n",
    "        if len(self) == len(otherCurve) and self.closed == otherCurve.closed:\n",
    "            return Curve([self[i] + otherCurve[i] for i in range(len(self))])\n",
    "\n",
    "    # Curve Subtraction\n",
    "    def __sub__(self, otherCurve):\n",
    "        if len(self) == len(otherCurve) and self.closed == otherCurve.closed:\n",
    "            return Curve([self[i] - otherCurve[i] for i in range(len(self))])\n",
    "\n",
    "    # Scalar Multiplication\n",
    "    def __mul__(self, val):\n",
    "        return Curve([self[i] * val for i in range(len(self))])\n",
    "    \n",
    "    # Curve Length\n",
    "    def curveLength(self):\n",
    "        l = 0\n",
    "        for i in range(self.J - 1):\n",
    "            edgeLength = np.linalg.norm(self[i + 1] - self[i])\n",
    "            l += edgeLength ** 2\n",
    "        if self.closed:\n",
    "            edgeLength = np.linalg.norm(self[-1] - self[0])\n",
    "            l += edgeLength ** 2\n",
    "        return l"
   ]
  },
  {
   "cell_type": "code",
   "execution_count": 3,
   "metadata": {},
   "outputs": [],
   "source": [
    "# p, q, T are all array\n",
    "def kernelalphabeta(p, q, T, alpha=2, beta=4):\n",
    "    pmq = p - q\n",
    "    numerator = np.linalg.norm(np.cross(T, pmq)) ** alpha\n",
    "    denominator = np.linalg.norm(pmq) ** beta\n",
    "    return numerator / denominator\n",
    "\n",
    "def kij(curve, i, j, alpha=2, beta=4):\n",
    "    TI = curve[i+1] - curve[i]\n",
    "    TI = TI / np.linalg.norm(TI)\n",
    "    res = kernelalphabeta(curve[i], curve[j], TI, alpha, beta)\n",
    "    res += kernelalphabeta(curve[i], curve[j+1], TI, alpha, beta)\n",
    "    res += kernelalphabeta(curve[i+1], curve[j], TI, alpha, beta)\n",
    "    res += kernelalphabeta(curve[i+1], curve[j+1], TI, alpha, beta)\n",
    "    return res / 4\n",
    "\n",
    "\n",
    "# Pass a list of points.\n",
    "def energy(points):\n",
    "    J = len(points)\n",
    "\n",
    "    e = 0\n",
    "    for i in range(J):\n",
    "        for j in range(J):\n",
    "            if abs(i - j) > 1 and abs(i - j + J) > 1 and abs(i - j - J) > 1:\n",
    "                xi = points[i % J]\n",
    "                xipm = points[(i+1) % J]\n",
    "                xj = points[j % J]\n",
    "                xjpm = points[(j+1) % J]\n",
    "                xI = xipm - xi\n",
    "                lI = np.linalg.norm(xI)\n",
    "                TI = xI / lI\n",
    "                kernelAB = 0\n",
    "                kernelAB += kernelalphabeta(xi, xj, TI) \n",
    "                kernelAB += kernelalphabeta(xi, xjpm, TI) \n",
    "                kernelAB += kernelalphabeta(xipm, xj, TI) \n",
    "                kernelAB += kernelalphabeta(xipm, xjpm, TI)\n",
    "                kernelAB *= 0.25 * lI * np.linalg.norm(xjpm-xj)\n",
    "                e += kernelAB\n",
    "                print(f\"{i}, {j}: kernelAB: {kernelAB}\")\n",
    "\n",
    "    return e\n"
   ]
  },
  {
   "cell_type": "code",
   "execution_count": 4,
   "metadata": {},
   "outputs": [],
   "source": [
    "# Generates the index pairs that are responsible for the derivative.\n",
    "# Note that 4(J-1) pairs are generated.\n",
    "def derivative_index(k, J):\n",
    "    index_list = []\n",
    "    for i in range(J):\n",
    "        if abs(k - i) > 1 and abs(k - i + J) > 1 and abs(k - i - J) > 1:\n",
    "            index_list.append((k, i))\n",
    "    for i in range(J):\n",
    "        if abs(k - 1 - i) > 1 and abs(k - 1 - i + J) > 1 and abs(k - 1 - i - J) > 1:\n",
    "            index_list.append(((k-1) % J, i))\n",
    "    for i in range(J):\n",
    "        if abs(k - i) > 1 and abs(k - i + J) > 1 and abs(k - i - J) > 1:\n",
    "            index_list.append((i, k))\n",
    "    for i in range(J):\n",
    "        if abs(k - 1 - i) > 1 and abs(k - 1 - i + J) > 1 and abs(k - 1 - i - J) > 1:\n",
    "            index_list.append((i, (k-1) % J))\n",
    "    \n",
    "\n",
    "    return index_list"
   ]
  },
  {
   "cell_type": "code",
   "execution_count": 63,
   "metadata": {},
   "outputs": [],
   "source": [
    "points = []\n",
    "resolution = 8\n",
    "for i in range(resolution):\n",
    "    theta = 2 * np.pi / resolution * i\n",
    "    points.append(np.array([2 * np.cos(theta), np.sin(theta), 0], dtype=\"float64\"))\n",
    "curve = Curve(points)\n"
   ]
  },
  {
   "cell_type": "code",
   "execution_count": 6,
   "metadata": {},
   "outputs": [],
   "source": [
    "def kjk(curve, p, q, r, alpha=3, beta=6):\n",
    "    k = p\n",
    "    j = q\n",
    "    xkEdge = curve[k+1] - curve[k]\n",
    "    xkEdgeLen = np.linalg.norm(xkEdge)\n",
    "    xkj = curve[k] - curve[j]\n",
    "    xkjLen = np.linalg.norm(xkj)\n",
    "    xi = xkEdgeLen**2 * xkjLen**2 - (np.dot(xkEdge, xkj))**2\n",
    "    eta = xkjLen**beta * xkEdgeLen**alpha\n",
    "    dxi = -2 * xkEdge * xkjLen**2 + 2 * xkEdgeLen**2 * xkj - 2 * np.dot(xkEdge, xkj) * (xkEdge - xkj)\n",
    "    deta = beta * xkjLen**(beta - 2) * xkEdgeLen**alpha * xkj + alpha * xkjLen**beta * xkEdgeLen**(alpha-2)*(-xkEdge)\n",
    "    return (xi, eta, dxi, deta)\n",
    "\n",
    "def ijk(curve, p, q, r, alpha=3, beta=6):\n",
    "    i = p\n",
    "    j = q\n",
    "    k = r\n",
    "    xkEdge = curve[k+1] - curve[k]\n",
    "    xkEdgeLen = np.linalg.norm(xkEdge)\n",
    "    xij = curve[i] - curve[j]\n",
    "    xijLen = np.linalg.norm(xij)\n",
    "    xi = xkEdgeLen**2 * xijLen**2 - (np.dot(xkEdge, xij))**2\n",
    "    eta = xijLen**beta * xkEdgeLen**alpha\n",
    "    dxi = -2 * xijLen**2 * xkEdge + 2 * np.dot(xkEdge, xij) * xij\n",
    "    deta = alpha * xijLen**beta * xkEdgeLen**(alpha-2) * (-xkEdge)\n",
    "    return (xi, eta, dxi, deta)\n",
    "\n",
    "def km1jkm1(curve, p, q, r, alpha=3, beta=6):\n",
    "    k = p + 1\n",
    "    j = q\n",
    "    xkEdge = curve[k] - curve[k-1]\n",
    "    xkEdgeLen = np.linalg.norm(xkEdge)\n",
    "    xkmj = curve[k-1] - curve[j]\n",
    "    xkmjLen = np.linalg.norm(xkmj)\n",
    "    xi = xkEdgeLen**2 * xkmjLen**2 - (np.dot(xkEdge, xkmj))**2\n",
    "    eta = xkmjLen**beta * xkEdgeLen**alpha\n",
    "    dxi = 2 * xkmjLen**2 * xkEdge - 2 * np.dot(xkEdge, xkmj) * xkmj\n",
    "    deta = alpha * xkmjLen**beta * xkEdgeLen**(alpha-2) * xkEdge\n",
    "    return (xi, eta, dxi, deta)\n",
    "\n",
    "def kjkm1(curve, p, q, r, alpha=3, beta=6):\n",
    "    k = p\n",
    "    j = q\n",
    "    xkEdge = curve[k] - curve[k-1]\n",
    "    xkEdgeLen = np.linalg.norm(xkEdge)\n",
    "    xkj = curve[k] - curve[j]\n",
    "    xkjLen = np.linalg.norm(xkj)\n",
    "    xi = xkEdgeLen**2 * xkjLen**2 - (np.dot(xkEdge, xkj))**2\n",
    "    eta = xkjLen**beta * xkEdgeLen**alpha\n",
    "    dxi = 2 * xkjLen**2 * xkEdge + 2 * xkEdgeLen**2 * xkj - 2 * np.dot(xkEdge, xkj) * (xkEdge + xkj)\n",
    "    deta = beta * xkEdgeLen**alpha * xkjLen**(beta-2) * xkj + alpha * xkjLen**beta * xkEdgeLen**(alpha-2) * xkEdge\n",
    "    return (xi, eta, dxi, deta)\n",
    "\n",
    "def ikj(curve, p, q, r, alpha=3, beta=6):\n",
    "    i = p\n",
    "    j = r\n",
    "    k = q\n",
    "    xjEdge = curve[j+1] - curve[j]\n",
    "    xjEdgeLen = np.linalg.norm(xjEdge)\n",
    "    xki = curve[k] - curve[i]\n",
    "    xkiLen = np.linalg.norm(xki)\n",
    "    xi = xjEdgeLen**2 * xkiLen**2 - (np.dot(xjEdge, xki))**2\n",
    "    eta = xkiLen**beta * xjEdgeLen**alpha\n",
    "    dxi = 2 * xjEdgeLen**2 * xki - 2 * np.dot(xjEdge, xki) * xjEdge\n",
    "    deta = beta * xjEdgeLen**alpha * xkiLen**(beta-2) * xki\n",
    "    return (xi, eta, dxi, deta)\n",
    "\n",
    "# Derivative of k_{\\beta}^{\\alpha}\n",
    "def dkalphabeta(curve, p, q, r, k, alpha=3, beta=6):\n",
    "    J = len(curve)\n",
    "    p = p % J\n",
    "    q = q % J\n",
    "    r = r % J\n",
    "    k = k % J\n",
    "    # (k, j, k)\n",
    "    if (p, r) == (k, k):\n",
    "        xiEtaSorter = kjk\n",
    "        #print(\"kjk\")\n",
    "    # (i, j, k)\n",
    "    elif r == k:\n",
    "        xiEtaSorter = ijk\n",
    "        #print(\"ijk\")\n",
    "    elif (p, r) == ((k-1)%J, (k-1)%J):\n",
    "        xiEtaSorter = km1jkm1\n",
    "        #print(\"k-1,j,k-1\")\n",
    "    elif (p, r) == (k, (k-1)%J):\n",
    "        xiEtaSorter = kjkm1\n",
    "        #print(\"k, j, k-1\")\n",
    "    elif q == k:\n",
    "        xiEtaSorter = ikj\n",
    "        #print(\"ikj\")\n",
    "    else:\n",
    "        #print(f\"k={k}: NOT DEFINED: {p}, {q}, {r}\")\n",
    "        return 0.0\n",
    "    xi, eta, dxi, deta = xiEtaSorter(curve, p, q, r, alpha, beta)\n",
    "\n",
    "    res = (alpha/2 * xi**(alpha/2 - 1) * dxi * eta - xi**(alpha/2) * deta) / (eta**2)\n",
    "    return res\n",
    "\n",
    "def dkij(curve, i, j, k, alpha=3, beta=6):\n",
    "    res = 0\n",
    "    res += dkalphabeta(curve, i, j, i, k, alpha, beta)\n",
    "    res += dkalphabeta(curve, i, j+1, i, k, alpha, beta)\n",
    "    res += dkalphabeta(curve, i+1, j, i, k, alpha, beta)\n",
    "    res += dkalphabeta(curve, i+1, j+1, i, k, alpha, beta)\n",
    "    return res / 4"
   ]
  },
  {
   "cell_type": "code",
   "execution_count": 7,
   "metadata": {},
   "outputs": [],
   "source": [
    "# Derivative of \\norm{x_{i+1} - x_i} \\norm{x_{j+1} - x_j}\n",
    "def dProductOfLengths(curve, p, q, k):\n",
    "    J = len(curve)\n",
    "    i = p % J\n",
    "    j = q % J\n",
    "    k = k % J\n",
    "    xiEdge = curve[i+1] - curve[i]\n",
    "    xiEdgeLen = np.linalg.norm(xiEdge)\n",
    "    xjEdge = curve[j+1] - curve[j]\n",
    "    xjEdgeLen = np.linalg.norm(xjEdge)\n",
    "    if i == k:\n",
    "        res = xjEdgeLen * (-xiEdge) / xiEdgeLen\n",
    "    elif (i+1) % J == k:\n",
    "        res = xjEdgeLen * xiEdge / xiEdgeLen\n",
    "    elif j == k:\n",
    "        res = xiEdgeLen * (-xjEdge) / xjEdgeLen\n",
    "    elif (j+1) % J == k:\n",
    "        res = xiEdgeLen * xjEdge / xjEdgeLen\n",
    "    else:\n",
    "        res = 0\n",
    "    return res\n"
   ]
  },
  {
   "cell_type": "code",
   "execution_count": 64,
   "metadata": {},
   "outputs": [
    {
     "data": {
      "text/plain": [
       "[array([-1.13643495e+00,  3.48679419e-15,  0.00000000e+00]),\n",
       " array([ 0.80132002, -0.88902737,  0.        ]),\n",
       " array([-0.22321346, -0.24953336,  0.        ]),\n",
       " array([-0.02642193, -0.05987047,  0.        ]),\n",
       " array([0.0330657, 0.       , 0.       ]),\n",
       " array([-0.02642193,  0.05987047,  0.        ]),\n",
       " array([-0.22321346,  0.24953336,  0.        ]),\n",
       " array([0.80132002, 0.88902737, 0.        ])]"
      ]
     },
     "execution_count": 64,
     "metadata": {},
     "output_type": "execute_result"
    }
   ],
   "source": [
    "def dEnergy(curve, alpha, beta):\n",
    "    J = len(curve)\n",
    "    res = Curve([np.array([0,0,0], dtype=\"float64\") for i in range(J)])\n",
    "    k = 0\n",
    "\n",
    "    # Generate indices that are relevant\n",
    "    dIndex = derivative_index(k, J)\n",
    "    for k in range(J):\n",
    "        for i, j in dIndex:\n",
    "            xiEdgeLen = np.linalg.norm(curve[i+1] - curve[i])\n",
    "            xjEdgeLen = np.linalg.norm(curve[j+1] - curve[j])\n",
    "            summand = dkij(curve, i, j, k, alpha, beta) * xiEdgeLen * xjEdgeLen\n",
    "            summand += kij(curve, i, j, alpha, beta) * dProductOfLengths(curve, i, j, k)\n",
    "            res[k] += summand\n",
    "        \n",
    "    return res\n",
    "dEnergy(curve, 3, 6).list_of_points\n"
   ]
  },
  {
   "cell_type": "code",
   "execution_count": 9,
   "metadata": {},
   "outputs": [
    {
     "name": "stdout",
     "output_type": "stream",
     "text": [
      "[ 1.38777878e-17 -1.32582521e-01  0.00000000e+00]\n",
      "[-0.06629126  0.06629126  0.        ]\n",
      "[ 0.06629126 -0.06629126  0.        ]\n",
      "[-0.06629126  0.06629126  0.        ]\n"
     ]
    }
   ],
   "source": [
    "dIndex = derivative_index(1, 4)\n",
    "k = 1\n",
    "for p, q in dIndex:\n",
    "    r = p\n",
    "    print(dkalphabeta(curve, p, q, k, k))"
   ]
  },
  {
   "cell_type": "code",
   "execution_count": 10,
   "metadata": {},
   "outputs": [
    {
     "name": "stdout",
     "output_type": "stream",
     "text": [
      "0, 2\n",
      "[-1.32582521e-01  1.38777878e-17  0.00000000e+00]\n",
      "[0. 0. 0.]\n",
      "[-0.53033009 -0.53033009  0.        ]\n",
      "[0.06629126 0.06629126 0.        ]\n",
      "-----------------------------------------------------\n",
      "0, 3\n",
      "[-0.53033009 -0.53033009  0.        ]\n",
      "[0.06629126 0.06629126 0.        ]\n",
      "[nan nan nan]\n",
      "[nan nan nan]\n",
      "-----------------------------------------------------\n",
      "4, 1\n",
      "[nan nan nan]\n",
      "[nan nan nan]\n",
      "[-1.32582521e-01  1.38777878e-17  0.00000000e+00]\n",
      "[0. 0. 0.]\n",
      "-----------------------------------------------------\n",
      "4, 2\n",
      "[-1.32582521e-01  1.38777878e-17  0.00000000e+00]\n",
      "[0. 0. 0.]\n",
      "[-0.53033009 -0.53033009  0.        ]\n",
      "[0.06629126 0.06629126 0.        ]\n",
      "-----------------------------------------------------\n",
      "2, 0\n",
      "[-0.06629126  0.06629126  0.        ]\n",
      "[-0.53033009 -0.53033009  0.        ]\n",
      "0.0\n",
      "0.0\n",
      "-----------------------------------------------------\n",
      "3, 0\n",
      "[0. 0. 0.]\n",
      "[nan nan nan]\n",
      "[ 0.06629126 -0.06629126  0.        ]\n",
      "[-0.53033009  0.53033009  0.        ]\n",
      "-----------------------------------------------------\n",
      "1, 4\n",
      "[-0.53033009  0.53033009  0.        ]\n",
      "[-0.06629126 -0.06629126  0.        ]\n",
      "0.0\n",
      "0.0\n",
      "-----------------------------------------------------\n",
      "2, 4\n",
      "[-0.06629126  0.06629126  0.        ]\n",
      "[-0.53033009 -0.53033009  0.        ]\n",
      "0.0\n",
      "0.0\n",
      "-----------------------------------------------------\n"
     ]
    },
    {
     "name": "stderr",
     "output_type": "stream",
     "text": [
      "/tmp/ipykernel_6686/2817426322.py:97: RuntimeWarning: invalid value encountered in divide\n",
      "  res = (alpha/2 * xi**(alpha/2 - 1) * dxi * eta - xi**(alpha/2) * deta) / (eta**2)\n",
      "/tmp/ipykernel_6686/2817426322.py:97: RuntimeWarning: invalid value encountered in double_scalars\n",
      "  res = (alpha/2 * xi**(alpha/2 - 1) * dxi * eta - xi**(alpha/2) * deta) / (eta**2)\n"
     ]
    }
   ],
   "source": [
    "for p, q in derivative_index(0,5):\n",
    "    print(f\"{p}, {q}\")\n",
    "    print(dkalphabeta(curve, p, q, p, 0))\n",
    "    print(dkalphabeta(curve, p+1, q, p, 0))\n",
    "    print(dkalphabeta(curve, p, q+1, p, 0))\n",
    "    print(dkalphabeta(curve, p+1, q+1, p, 0))\n",
    "    print(\"-----------------------------------------------------\")"
   ]
  },
  {
   "cell_type": "code",
   "execution_count": 11,
   "metadata": {},
   "outputs": [],
   "source": [
    "def curvePlot(curve):\n",
    "    J = curve.J\n",
    "\n",
    "    xpoints = []\n",
    "    ypoints = []\n",
    "    zpoints = []\n",
    "    for i in range(J):\n",
    "        xpoints.append(curve[i][0])\n",
    "        ypoints.append(curve[i][1])\n",
    "        zpoints.append(curve[i][2])\n",
    "    \n",
    "    fig = plt.figure()\n",
    "    ax = fig.add_subplot(projection=\"3d\")\n",
    "    ax.plot(xpoints, ypoints, zpoints)\n",
    "    ax.set_xlim((-5,5))\n",
    "    ax.set_ylim((-5,5))\n",
    "    ax.set_zlim((-5,5))\n",
    "    plt.show()"
   ]
  },
  {
   "cell_type": "code",
   "execution_count": null,
   "metadata": {},
   "outputs": [],
   "source": [
    "# Gradient Flow\n",
    "stepsize=1.0\n",
    "for t in range(100):\n",
    "    curve = curve - dEnergy(curve, 2, 4) * stepsize\n",
    "    curvePlot(curve)"
   ]
  },
  {
   "cell_type": "code",
   "execution_count": 12,
   "metadata": {},
   "outputs": [
    {
     "data": {
      "text/plain": [
       "[(0, 2), (3, 1), (2, 0), (1, 3)]"
      ]
     },
     "execution_count": 12,
     "metadata": {},
     "output_type": "execute_result"
    }
   ],
   "source": [
    "derivative_index(0,4)"
   ]
  },
  {
   "cell_type": "code",
   "execution_count": 13,
   "metadata": {},
   "outputs": [
    {
     "data": {
      "image/png": "[encoded data removed]",
      "text/plain": [
       "<Figure size 640x480 with 1 Axes>"
      ]
     },
     "metadata": {},
     "output_type": "display_data"
    }
   ],
   "source": [
    "easy_square = Curve([\n",
    "    np.array([0, 0, 0], dtype=\"float64\"),\n",
    "    np.array([1, 0, 0], dtype=\"float64\"),\n",
    "    np.array([1, 1, 0], dtype=\"float64\"),\n",
    "    np.array([0, 1, 0], dtype=\"float64\")\n",
    "    ]\n",
    ")\n",
    "curvePlot(easy_square)"
   ]
  },
  {
   "cell_type": "code",
   "execution_count": 50,
   "metadata": {},
   "outputs": [
    {
     "data": {
      "text/plain": [
       "(array([-2.,  0.,  0.]), array([-16.,  -8.,   0.]))"
      ]
     },
     "execution_count": 50,
     "metadata": {},
     "output_type": "execute_result"
    }
   ],
   "source": [
    "# Lab\n",
    "easy_square_plus = deepcopy(easy_square)\n",
    "easy_square_minus = deepcopy(easy_square)\n",
    "perturbation=0.00001\n",
    "ALPHA=2\n",
    "BETA=4\n",
    "derivative_function=kjk\n",
    "p = 0\n",
    "q = 2\n",
    "r = 0\n",
    "k = 0\n",
    "easy_square_plus[k] = np.array([perturbation, 0, 0])\n",
    "easy_square_minus[k] = np.array([-perturbation, 0, 0])\n",
    "#easy_square_plus[k] = np.array([0, perturbation, 0])\n",
    "#easy_square_minus[k] = np.array([0, -perturbation, 0])\n",
    "xi, eta, dxi, deta = derivative_function(easy_square, p, q, r, ALPHA, BETA)\n",
    "(dxi, deta)\n"
   ]
  },
  {
   "cell_type": "code",
   "execution_count": 59,
   "metadata": {},
   "outputs": [
    {
     "data": {
      "text/plain": [
       "(-1.9999999999908977, -16.00000000274715)"
      ]
     },
     "execution_count": 59,
     "metadata": {},
     "output_type": "execute_result"
    }
   ],
   "source": [
    "xip, etap, dxip, detap = derivative_function(easy_square_plus, p, q, r, ALPHA, BETA)\n",
    "xin, etan, dxin, detan = derivative_function(easy_square_minus, p, q, r, ALPHA, BETA)\n",
    "((xip - xin) / (2*perturbation), (etap - etan) / (2*perturbation))"
   ]
  },
  {
   "cell_type": "code",
   "execution_count": 58,
   "metadata": {},
   "outputs": [
    {
     "data": {
      "text/plain": [
       "(0.12500000000637002, array([0.125, 0.5  , 0.   ]))"
      ]
     },
     "execution_count": 58,
     "metadata": {},
     "output_type": "execute_result"
    }
   ],
   "source": [
    "(\n",
    "    (kij(easy_square_plus, p, q, ALPHA, BETA) - kij(easy_square_minus, p, q, ALPHA, BETA)) / (2*perturbation), \n",
    "dkij(easy_square, p, q, k, alpha=ALPHA, beta=BETA)\n",
    ")"
   ]
  },
  {
   "cell_type": "code",
   "execution_count": 48,
   "metadata": {},
   "outputs": [
    {
     "data": {
      "text/plain": [
       "(0.24999999999999994, 0.25000000000000006)"
      ]
     },
     "execution_count": 48,
     "metadata": {},
     "output_type": "execute_result"
    }
   ],
   "source": [
    "# Comparison of kalphabeta values\n",
    "xi, eta, dxi, deta = derivative_function(easy_square, p, q, r, ALPHA, BETA)\n",
    "referenceValue = kernelalphabeta(easy_square[p], easy_square[q], (easy_square[r] - easy_square[r+1]) / (np.linalg.norm(easy_square[r] - easy_square[r+1])), alpha=ALPHA, beta=BETA)\n",
    "newValue = xi**(ALPHA/2) / eta\n",
    "(referenceValue, newValue)"
   ]
  },
  {
   "cell_type": "code",
   "execution_count": 61,
   "metadata": {},
   "outputs": [
    {
     "data": {
      "text/plain": [
       "[array([-1.66533454e-16, -4.44089210e-16,  0.00000000e+00]),\n",
       " array([-1.11022302e-16,  5.55111512e-17,  0.00000000e+00]),\n",
       " array([ 5.55111512e-17, -2.22044605e-16,  0.00000000e+00]),\n",
       " array([5.55111512e-17, 3.88578059e-16, 0.00000000e+00])]"
      ]
     },
     "execution_count": 61,
     "metadata": {},
     "output_type": "execute_result"
    }
   ],
   "source": [
    "dEnergy(curve, ALPHA, BETA).list_of_points"
   ]
  },
  {
   "cell_type": "code",
   "execution_count": null,
   "metadata": {},
   "outputs": [],
   "source": []
  }
 ],
 "metadata": {
  "kernelspec": {
   "display_name": "Python 3",
   "language": "python",
   "name": "python3"
  },
  "language_info": {
   "codemirror_mode": {
    "name": "ipython",
    "version": 3
   },
   "file_extension": ".py",
   "mimetype": "text/x-python",
   "name": "python",
   "nbconvert_exporter": "python",
   "pygments_lexer": "ipython3",
   "version": "3.10.9"
  },
  "orig_nbformat": 4,
  "vscode": {
   "interpreter": {
    "hash": "e7370f93d1d0cde622a1f8e1c04877d8463912d04d973331ad4851f04de6915a"
   }
  }
 },
 "nbformat": 4,
 "nbformat_minor": 2
}
