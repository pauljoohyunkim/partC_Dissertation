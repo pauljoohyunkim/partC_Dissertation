{
 "cells": [
  {
   "cell_type": "code",
   "execution_count": null,
   "metadata": {},
   "outputs": [],
   "source": [
    "import numpy as np\n",
    "import matplotlib.pyplot as plt\n",
    "from curve import Curve, curvePlot\n",
    "import quadrature4\n",
    "import quadrature_minimal\n",
    "from copy import deepcopy\n",
    "import json\n",
    "DTYPE=\"float128\""
   ]
  },
  {
   "cell_type": "code",
   "execution_count": null,
   "metadata": {},
   "outputs": [],
   "source": [
    "points = []\n",
    "resolution = 5\n",
    "for i in range(resolution):\n",
    "    theta = 2 * np.pi / resolution * i\n",
    "    points.append(np.array([np.cos(theta), np.sin(theta), 0], dtype=DTYPE))\n",
    "easy_square = Curve(points)\n",
    "curvePlot(easy_square, False)\n"
   ]
  },
  {
   "cell_type": "code",
   "execution_count": null,
   "metadata": {},
   "outputs": [],
   "source": [
    "# Gradient Flow\n",
    "deltaT=0.01\n",
    "Lambda=0.01\n",
    "M=30000\n",
    "qPlot=False\n",
    "qGraphic=True\n",
    "PLOTFREQ = 100\n",
    "curve = easy_square\n",
    "xpoints = []\n",
    "ypoints = []\n",
    "zpoints = []\n",
    "for t in range(M):\n",
    "    #print(f\"{t} / {M} ({t/M*100:.2f}%)\")\n",
    "    curve = curve - (quadrature_minimal.dEnergy(curve, 3, 6) + curve * Lambda) * deltaT\n",
    "    if (t % PLOTFREQ == 0):\n",
    "        if qGraphic:\n",
    "            curvePlot(curve, False, size=(-10,10), title=f\"{t} / {M} ({t/M*100:.2f}%)\")\n",
    "        if qPlot:\n",
    "            xpointAtTime = []\n",
    "            ypointAtTime = []\n",
    "            zpointAtTime = []\n",
    "            for i in range(curve.J):\n",
    "                xpointAtTime.append(curve[i][0])\n",
    "                ypointAtTime.append(curve[i][1])\n",
    "                zpointAtTime.append(curve[i][2])\n",
    "            xpoints.append(xpointAtTime)\n",
    "            ypoints.append(ypointAtTime)\n",
    "            zpoints.append(zpointAtTime)\n",
    "\n",
    "if qPlot:\n",
    "    with open(\"x.json\",\"w\") as file:\n",
    "        json.dump(xpoints, file)\n",
    "    with open(\"y.json\",\"w\") as file:\n",
    "        json.dump(ypoints, file)\n",
    "    with open(\"z.json\",\"w\") as file:\n",
    "        json.dump(zpoints, file)"
   ]
  },
  {
   "cell_type": "code",
   "execution_count": null,
   "metadata": {},
   "outputs": [],
   "source": [
    "quadrature4.derivative_index(1,5)"
   ]
  },
  {
   "cell_type": "code",
   "execution_count": null,
   "metadata": {},
   "outputs": [],
   "source": [
    "#easy_square = Curve([\n",
    "#    np.array([4.16, -2.86, 0], dtype=\"float64\"),\n",
    "#    np.array([5.74, 2.0, 0], dtype=\"float64\"),\n",
    "#    np.array([-3.34, 0.88, 0], dtype=\"float64\"),\n",
    "#    np.array([-3, -2, 0], dtype=\"float64\")\n",
    "#    ]\n",
    "#)\n",
    "#curvePlot(easy_square)"
   ]
  },
  {
   "cell_type": "code",
   "execution_count": null,
   "metadata": {},
   "outputs": [],
   "source": [
    "# Lab\n",
    "easy_square_plus = deepcopy(easy_square)\n",
    "easy_square_minus = deepcopy(easy_square)\n",
    "perturbation=0.00001\n",
    "ALPHA=2\n",
    "BETA=4\n",
    "derivative_function=quadrature4.ijk\n",
    "p = 3\n",
    "q = 0\n",
    "r = 1\n",
    "k = 1\n",
    "easy_square_plus[k] += np.array([perturbation, 0, 0])\n",
    "easy_square_minus[k] += np.array([-perturbation, 0, 0])\n",
    "#easy_square_plus[k] = np.array([0, perturbation, 0])\n",
    "#easy_square_minus[k] = np.array([0, -perturbation, 0])\n",
    "xi, eta, dxi, deta = derivative_function(easy_square, p, q, r, ALPHA, BETA)\n",
    "#(dxi, deta)\n"
   ]
  },
  {
   "cell_type": "code",
   "execution_count": null,
   "metadata": {},
   "outputs": [],
   "source": [
    "# Derivative of summand\n",
    "xiEdgeLen = np.linalg.norm(easy_square[p+1] - easy_square[p])\n",
    "xjEdgeLen = np.linalg.norm(easy_square[q+1] - easy_square[q])\n",
    "dsummand = quadrature4.dkij(easy_square, p, q, k, ALPHA, BETA) * xiEdgeLen * xjEdgeLen\n",
    "dsummand += quadrature4.kij(easy_square, p, q, ALPHA, BETA) * quadrature4.dProductOfLengths(easy_square, p, q, k)\n",
    "\n",
    "approxDSummand = (quadrature4.kij(easy_square_plus, p, q, ALPHA, BETA) * np.linalg.norm(easy_square_plus[p+1] - easy_square_plus[p]) * np.linalg.norm(easy_square_plus[q+1] - easy_square_plus[q])\n",
    "                   - quadrature4.kij(easy_square_minus, p, q, ALPHA, BETA) * np.linalg.norm(easy_square_minus[p+1] - easy_square_minus[p]) * np.linalg.norm(easy_square_minus[q+1] - easy_square_minus[q])\n",
    "                   ) / (2*perturbation)\n",
    "\n",
    "(dsummand, approxDSummand)\n"
   ]
  },
  {
   "cell_type": "code",
   "execution_count": null,
   "metadata": {},
   "outputs": [],
   "source": [
    "# derivative kij\n",
    "(\n",
    "    (quadrature4.kij(easy_square_plus, p, q, ALPHA, BETA) - quadrature4.kij(easy_square_minus, p, q, ALPHA, BETA)) / (2*perturbation), \n",
    "quadrature4.dkij(easy_square, p, q, k, alpha=ALPHA, beta=BETA)\n",
    ")"
   ]
  },
  {
   "cell_type": "code",
   "execution_count": null,
   "metadata": {},
   "outputs": [],
   "source": [
    "# Comparison of kalphabeta values\n",
    "xi, eta, dxi, deta = derivative_function(easy_square, p, q, r, ALPHA, BETA)\n",
    "referenceValue = quadrature4.kernelalphabeta(easy_square[p], easy_square[q], (easy_square[r] - easy_square[r+1]) / (np.linalg.norm(easy_square[r] - easy_square[r+1])), alpha=ALPHA, beta=BETA)\n",
    "newValue = xi**(ALPHA/2) / eta\n",
    "(referenceValue, newValue)"
   ]
  },
  {
   "cell_type": "code",
   "execution_count": null,
   "metadata": {},
   "outputs": [],
   "source": [
    "xip, etap, dxip, detap = derivative_function(easy_square_plus, p, q, r, ALPHA, BETA)\n",
    "xin, etan, dxin, detan = derivative_function(easy_square_minus, p, q, r, ALPHA, BETA)\n",
    "((xip - xin) / (2*perturbation), (etap - etan) / (2*perturbation))"
   ]
  },
  {
   "cell_type": "code",
   "execution_count": null,
   "metadata": {},
   "outputs": [],
   "source": [
    "quadrature4.dEnergy(easy_square, ALPHA, BETA).list_of_points"
   ]
  },
  {
   "cell_type": "code",
   "execution_count": null,
   "metadata": {},
   "outputs": [],
   "source": [
    "quadrature_minimal.dEnergy(easy_square, ALPHA, BETA).list_of_points"
   ]
  },
  {
   "cell_type": "code",
   "execution_count": null,
   "metadata": {},
   "outputs": [],
   "source": [
    "for i in range(len(easy_square)):\n",
    "    print(quadrature4.curveDifferential(easy_square, i, np.array([perturbation, 0, 0]), quadrature4.energy) / perturbation)"
   ]
  },
  {
   "cell_type": "code",
   "execution_count": null,
   "metadata": {},
   "outputs": [],
   "source": []
  }
 ],
 "metadata": {
  "kernelspec": {
   "display_name": "Python 3 (ipykernel)",
   "language": "python",
   "name": "python3"
  },
  "language_info": {
   "codemirror_mode": {
    "name": "ipython",
    "version": 3
   },
   "file_extension": ".py",
   "mimetype": "text/x-python",
   "name": "python",
   "nbconvert_exporter": "python",
   "pygments_lexer": "ipython3",
   "version": "3.10.9"
  },
  "vscode": {
   "interpreter": {
    "hash": "e7370f93d1d0cde622a1f8e1c04877d8463912d04d973331ad4851f04de6915a"
   }
  }
 },
 "nbformat": 4,
 "nbformat_minor": 2
}
