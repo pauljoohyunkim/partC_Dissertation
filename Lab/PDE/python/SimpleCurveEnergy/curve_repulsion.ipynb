{
 "cells": [
  {
   "cell_type": "code",
   "execution_count": 6,
   "metadata": {},
   "outputs": [],
   "source": [
    "import numpy as np\n",
    "import matplotlib.pyplot as plt"
   ]
  },
  {
   "cell_type": "code",
   "execution_count": 36,
   "metadata": {},
   "outputs": [],
   "source": [
    "class Curve:\n",
    "    # Constructor\n",
    "    def __init__(self, list_of_points, closed=False):\n",
    "        self.list_of_points = list_of_points\n",
    "        self.closed = closed\n",
    "        self.J = len(list_of_points)\n",
    "    \n",
    "    # Square Bracket Overload\n",
    "    def __getitem__(self, key):\n",
    "        return self.list_of_points[key % self.J]\n",
    "    def __setitem__(self, key, value):\n",
    "        self.list_of_points[key] = value\n",
    "    \n",
    "    # Length\n",
    "    def __len__(self):\n",
    "        return self.J\n",
    "    \n",
    "    # Curve Addition\n",
    "    def __add__(self, otherCurve):\n",
    "        if len(self) == len(otherCurve) and self.closed == otherCurve.closed:\n",
    "            return Curve([self[i] + otherCurve[i] for i in range(len(self))])\n",
    "    \n",
    "    # Curve Length\n",
    "    def curveLength(self):\n",
    "        l = 0\n",
    "        for i in range(self.length - 1):\n",
    "            edgeLength = np.linalg.norm(self[i + 1] - self[i])\n",
    "            l += edgeLength ** 2\n",
    "        if self.closed:\n",
    "            edgeLength = np.linalg.norm(self[-1] - self[0])\n",
    "            l += edgeLength ** 2\n",
    "        return l\n",
    "    "
   ]
  },
  {
   "cell_type": "code",
   "execution_count": null,
   "metadata": {},
   "outputs": [],
   "source": [
    "# Epsilon is the proportion of the curve length of which gets excluded in the quadrature.\n",
    "def curveEnergy(curve, epsilon=0.1):\n",
    "    J = curve.J\n",
    "    curveLength = curve.curveLength()\n",
    "    ignoreRange = epsilon * curveLength\n",
    "\n",
    "    for i in range(J):\n",
    "        for j in range(J):\n",
    "            pass\n",
    "    "
   ]
  }
 ],
 "metadata": {
  "kernelspec": {
   "display_name": "Python 3",
   "language": "python",
   "name": "python3"
  },
  "language_info": {
   "codemirror_mode": {
    "name": "ipython",
    "version": 3
   },
   "file_extension": ".py",
   "mimetype": "text/x-python",
   "name": "python",
   "nbconvert_exporter": "python",
   "pygments_lexer": "ipython3",
   "version": "3.10.9"
  },
  "orig_nbformat": 4,
  "vscode": {
   "interpreter": {
    "hash": "767d51c1340bd893661ea55ea3124f6de3c7a262a8b4abca0554b478b1e2ff90"
   }
  }
 },
 "nbformat": 4,
 "nbformat_minor": 2
}
