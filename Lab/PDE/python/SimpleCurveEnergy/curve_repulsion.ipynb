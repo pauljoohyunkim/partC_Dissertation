{
 "cells": [
  {
   "cell_type": "code",
   "execution_count": 6,
   "metadata": {},
   "outputs": [],
   "source": [
    "import numpy as np\n",
    "import matplotlib.pyplot as plt"
   ]
  },
  {
   "cell_type": "code",
   "execution_count": 15,
   "metadata": {},
   "outputs": [],
   "source": [
    "class Curve:\n",
    "    # Constructor\n",
    "    def __init__(self, list_of_points, closed=False):\n",
    "        self.list_of_points = list_of_points\n",
    "        self.closed = closed\n",
    "        self.length = len(list_of_points)\n",
    "    \n",
    "    # Square Bracket Overload\n",
    "    def __getitem__(self, key):\n",
    "        return self.list_of_points[key]\n",
    "    def __setitem__(self, key, value):\n",
    "        self.list_of_points[key] = value\n",
    "    \n",
    "    # Length\n",
    "    def __len__(self):\n",
    "        return self.length\n",
    "    \n",
    "    # Curve Addition\n",
    "    def __add__(self, otherCurve):\n",
    "        if len(self) == len(otherCurve) and self.closed == otherCurve.closed:\n",
    "            return Curve([self[i] + otherCurve[i] for i in range(len(self))])\n",
    "    "
   ]
  }
 ],
 "metadata": {
  "kernelspec": {
   "display_name": "Python 3",
   "language": "python",
   "name": "python3"
  },
  "language_info": {
   "codemirror_mode": {
    "name": "ipython",
    "version": 3
   },
   "file_extension": ".py",
   "mimetype": "text/x-python",
   "name": "python",
   "nbconvert_exporter": "python",
   "pygments_lexer": "ipython3",
   "version": "3.10.9"
  },
  "orig_nbformat": 4,
  "vscode": {
   "interpreter": {
    "hash": "767d51c1340bd893661ea55ea3124f6de3c7a262a8b4abca0554b478b1e2ff90"
   }
  }
 },
 "nbformat": 4,
 "nbformat_minor": 2
}
