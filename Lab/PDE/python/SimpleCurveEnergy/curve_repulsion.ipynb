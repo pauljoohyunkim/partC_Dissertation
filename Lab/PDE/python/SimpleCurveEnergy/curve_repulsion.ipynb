{
 "cells": [
  {
   "cell_type": "code",
   "execution_count": 2,
   "metadata": {},
   "outputs": [],
   "source": [
    "import numpy as np\n",
    "import matplotlib.pyplot as plt\n",
    "from copy import deepcopy\n",
    "import json"
   ]
  },
  {
   "cell_type": "code",
   "execution_count": 3,
   "metadata": {},
   "outputs": [],
   "source": [
    "class Curve:\n",
    "    # Constructor\n",
    "    def __init__(self, list_of_points, closed=False):\n",
    "        self.list_of_points = list_of_points\n",
    "        self.closed = closed\n",
    "        self.J = len(list_of_points)\n",
    "    \n",
    "    # Square Bracket Overload\n",
    "    def __getitem__(self, key):\n",
    "        return self.list_of_points[key % self.J]\n",
    "    def __setitem__(self, key, value):\n",
    "        self.list_of_points[key] = value\n",
    "    \n",
    "    # Length\n",
    "    def __len__(self):\n",
    "        return self.J\n",
    "    \n",
    "    # Curve Addition\n",
    "    def __add__(self, otherCurve):\n",
    "        if len(self) == len(otherCurve) and self.closed == otherCurve.closed:\n",
    "            return Curve([self[i] + otherCurve[i] for i in range(len(self))])\n",
    "    \n",
    "    # Curve Length\n",
    "    def curveLength(self):\n",
    "        l = 0\n",
    "        for i in range(self.J - 1):\n",
    "            edgeLength = np.linalg.norm(self[i + 1] - self[i])\n",
    "            l += edgeLength ** 2\n",
    "        if self.closed:\n",
    "            edgeLength = np.linalg.norm(self[-1] - self[0])\n",
    "            l += edgeLength ** 2\n",
    "        return l\n",
    "    "
   ]
  },
  {
   "cell_type": "code",
   "execution_count": 4,
   "metadata": {},
   "outputs": [],
   "source": [
    "# Curve Energy Version 1\n",
    "def curveEnergy(curve):\n",
    "    J = curve.J\n",
    "\n",
    "    integral = 0\n",
    "    for i in range(J):\n",
    "        for j in range(J):\n",
    "            # Undefined for i = j\n",
    "            if i == j:\n",
    "                continue\n",
    "\n",
    "            contribution = np.linalg.norm(curve[i] - curve[i+1]) * np.linalg.norm(curve[j] - curve[j+1]) / np.linalg.norm(curve[i] - curve[j])\n",
    "            integral += contribution\n",
    "    \n",
    "    return integral\n",
    "            \n",
    "    "
   ]
  },
  {
   "cell_type": "code",
   "execution_count": 5,
   "metadata": {},
   "outputs": [],
   "source": [
    "\n",
    "# Curve Energy Version 2\n",
    "def curveEnergy2(curve):\n",
    "    J = curve.J\n",
    "\n",
    "    integral = 0\n",
    "    for i in range(J):\n",
    "        for j in range(J):\n",
    "            # Undefined for |i - j| <= 1\n",
    "            if abs(i - j) <= 1 or abs(i - j + J) <= 1 or abs(i - j - J) <= 1:\n",
    "                continue\n",
    "\n",
    "            contribution = 1 / np.linalg.norm(curve[i] - curve[j]) + 1 / np.linalg.norm(curve[i] - curve[j+1])\n",
    "            contribution += 1 / np.linalg.norm(curve[i+1] - curve[j]) + 1 / np.linalg.norm(curve[i+1] - curve[j+1])\n",
    "            contribution /= 4\n",
    "            integral += contribution * np.linalg.norm(curve[i] - curve[i+1]) * np.linalg.norm(curve[j] - curve[j+1])\n",
    "    \n",
    "    return integral"
   ]
  },
  {
   "cell_type": "code",
   "execution_count": 6,
   "metadata": {},
   "outputs": [],
   "source": [
    "def curveDifferential(curve, index, perturbation_vec, curveEnergy=curveEnergy2):\n",
    "    # Perturb the curve in + and - perturb vec.\n",
    "    # May be improved.\n",
    "    curvep = Curve(deepcopy(curve.list_of_points))\n",
    "    curvep[index] += perturbation_vec\n",
    "    curven = Curve(deepcopy(curve.list_of_points))\n",
    "    curven[index] -= perturbation_vec\n",
    "\n",
    "    energyP = curveEnergy(curvep)\n",
    "    energyN = curveEnergy(curven)\n",
    "    differential = (energyP - energyN) / 2\n",
    "    return differential"
   ]
  },
  {
   "cell_type": "code",
   "execution_count": 7,
   "metadata": {},
   "outputs": [],
   "source": [
    "def gradientFlow(curve, M=10000, delta_x=0.1, delta_t=0.005, ld=0.0001, skipFrame=10, qPlot=False , xjson=\"x.json\", yjson=\"y.json\", zjson=\"z.json\", qEnergyExport=False, energyjson=\"energy.json\"):\n",
    "    J = curve.J\n",
    "    curveN = Curve([np.array([0.0,0.0,0.0]) for i in range(J)])\n",
    "    xjsonList = []\n",
    "    yjsonList = []\n",
    "    zjsonList = []\n",
    "    energyjsonList = []\n",
    "    for t in range(M):\n",
    "        for i in range(J):\n",
    "            curveN[i][0] = curve[i][0] -curveDifferential(curve, i, np.array([delta_x,0.0,0.0])) / delta_x * delta_t - ld * delta_t * curve[i][0]\n",
    "            curveN[i][1] = curve[i][1] -curveDifferential(curve, i, np.array([0.0, delta_x, 0])) / delta_x * delta_t - ld * delta_t * curve[i][1]\n",
    "            curveN[i][2] = curve[i][2] -curveDifferential(curve, i, np.array([0.0, 0.0, delta_x])) / delta_x * delta_t - ld * delta_t * curve[i][2]\n",
    "        curve = curveN\n",
    "        xjsonList.append([curve.list_of_points[i][0] for i in range(J)])\n",
    "        yjsonList.append([curve.list_of_points[i][1] for i in range(J)])\n",
    "        zjsonList.append([curve.list_of_points[i][2] for i in range(J)])\n",
    "        if qEnergyExport:\n",
    "            energyjsonList.append(curveEnergy(curve))\n",
    "\n",
    "        print(f\"Progress: {t}/{M} ({t/M * 100}%)\")\n",
    "        if not qPlot:\n",
    "            if (t % skipFrame == 0):\n",
    "                plt.plot([curve.list_of_points[i][0] for i in range(J)], [curve.list_of_points[i][1] for i in range(J)])\n",
    "                plt.xlim((-1, 1))\n",
    "                plt.ylim((-1, 1))\n",
    "                plt.show()\n",
    "    if qPlot:\n",
    "        with open(xjson, \"w\") as file:\n",
    "            json.dump(xjsonList, file)\n",
    "        with open(yjson, \"w\") as file:\n",
    "            json.dump(yjsonList, file)\n",
    "        with open(zjson, \"w\") as file:\n",
    "            json.dump(zjsonList, file)\n",
    "    if qEnergyExport:\n",
    "        with open(energyjson, \"w\") as file:\n",
    "            json.dump(energyjsonList, file)\n",
    "    \n",
    "            "
   ]
  },
  {
   "cell_type": "code",
   "execution_count": 27,
   "metadata": {},
   "outputs": [
    {
     "name": "stdout",
     "output_type": "stream",
     "text": [
      "19.83990713832355\n"
     ]
    }
   ],
   "source": [
    "# Regular Polygon\n",
    "num_of_verticles = 50\n",
    "radius = 0.5\n",
    "points = []\n",
    "for i in range(num_of_verticles):\n",
    "    theta = 2 * np.pi / num_of_verticles * i\n",
    "    points.append(radius * np.array([np.cos(theta), np.sin(theta), 0]))\n",
    "curve = Curve(points, True)\n",
    "print(curveEnergy2(curve))"
   ]
  },
  {
   "cell_type": "code",
   "execution_count": null,
   "metadata": {},
   "outputs": [],
   "source": [
    "# Fourier Curve\n",
    "points = []\n",
    "resolution = 30\n",
    "x = lambda t: np.cos(t) + 3 * np.cos(2 * t) - np.cos(3 * t) - 0.7 * np.cos(4 * t)\n",
    "y = lambda t: np.sin(t) + 0.2 * np.cos(2 * t) + 2 * np.sin(3 * t) + 0.2 * np.cos(4 * t)\n",
    "z = lambda t: np.cos(t) + 2 * np.cos(2 * t) + 4 * np.cos(3 * t) - 2.2 * np.cos(4 * t)\n",
    "for i in range(resolution):\n",
    "    theta = 2 * np.pi / resolution * i\n",
    "\n",
    "    points.append(np.array([x(theta), y(theta), z(theta)]))\n",
    "fourier = Curve(points)\n",
    "gradientFlow(fourier, M=10000, delta_x=0.1, delta_t=0.01)"
   ]
  },
  {
   "cell_type": "code",
   "execution_count": null,
   "metadata": {},
   "outputs": [],
   "source": [
    "gradientFlow(curve, M=1000, delta_x=0.1, delta_t= 0.005, ld=0.0001)"
   ]
  },
  {
   "cell_type": "code",
   "execution_count": null,
   "metadata": {},
   "outputs": [],
   "source": [
    "gradientFlow(curve)"
   ]
  }
 ],
 "metadata": {
  "kernelspec": {
   "display_name": "Python 3",
   "language": "python",
   "name": "python3"
  },
  "language_info": {
   "codemirror_mode": {
    "name": "ipython",
    "version": 3
   },
   "file_extension": ".py",
   "mimetype": "text/x-python",
   "name": "python",
   "nbconvert_exporter": "python",
   "pygments_lexer": "ipython3",
   "version": "3.10.9"
  },
  "orig_nbformat": 4,
  "vscode": {
   "interpreter": {
    "hash": "e7370f93d1d0cde622a1f8e1c04877d8463912d04d973331ad4851f04de6915a"
   }
  }
 },
 "nbformat": 4,
 "nbformat_minor": 2
}
