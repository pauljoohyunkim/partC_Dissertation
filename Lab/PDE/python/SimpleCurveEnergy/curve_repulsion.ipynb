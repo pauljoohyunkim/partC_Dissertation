{
 "cells": [
  {
   "cell_type": "code",
   "execution_count": 39,
   "metadata": {},
   "outputs": [],
   "source": [
    "import numpy as np\n",
    "import matplotlib.pyplot as plt\n",
    "from copy import deepcopy"
   ]
  },
  {
   "cell_type": "code",
   "execution_count": 19,
   "metadata": {},
   "outputs": [],
   "source": [
    "class Curve:\n",
    "    # Constructor\n",
    "    def __init__(self, list_of_points, closed=False):\n",
    "        self.list_of_points = list_of_points\n",
    "        self.closed = closed\n",
    "        self.J = len(list_of_points)\n",
    "    \n",
    "    # Square Bracket Overload\n",
    "    def __getitem__(self, key):\n",
    "        return self.list_of_points[key % self.J]\n",
    "    def __setitem__(self, key, value):\n",
    "        self.list_of_points[key] = value\n",
    "    \n",
    "    # Length\n",
    "    def __len__(self):\n",
    "        return self.J\n",
    "    \n",
    "    # Curve Addition\n",
    "    def __add__(self, otherCurve):\n",
    "        if len(self) == len(otherCurve) and self.closed == otherCurve.closed:\n",
    "            return Curve([self[i] + otherCurve[i] for i in range(len(self))])\n",
    "    \n",
    "    # Curve Length\n",
    "    def curveLength(self):\n",
    "        l = 0\n",
    "        for i in range(self.J - 1):\n",
    "            edgeLength = np.linalg.norm(self[i + 1] - self[i])\n",
    "            l += edgeLength ** 2\n",
    "        if self.closed:\n",
    "            edgeLength = np.linalg.norm(self[-1] - self[0])\n",
    "            l += edgeLength ** 2\n",
    "        return l\n",
    "    "
   ]
  },
  {
   "cell_type": "code",
   "execution_count": 23,
   "metadata": {},
   "outputs": [],
   "source": [
    "# Epsilon is the proportion of the curve length of which gets excluded in the quadrature.\n",
    "def curveEnergy(curve, epsilon=0.1):\n",
    "    J = curve.J\n",
    "    curveLength = curve.curveLength()\n",
    "    ignoreRange = epsilon * curveLength\n",
    "\n",
    "    integral = 0\n",
    "    for i in range(J):\n",
    "        for j in range(J):\n",
    "            # Undefined for i = j\n",
    "            if i == j:\n",
    "                continue\n",
    "\n",
    "            contribution = np.linalg.norm(curve[i] - curve[i+1]) * np.linalg.norm(curve[j] - curve[j+1]) / np.linalg.norm(curve[i] - curve[j])\n",
    "            integral += contribution\n",
    "    \n",
    "    return integral\n",
    "            \n",
    "    "
   ]
  },
  {
   "cell_type": "code",
   "execution_count": 40,
   "metadata": {},
   "outputs": [],
   "source": [
    "def curveDifferential(curve, index, perturbation_vec):\n",
    "    # Perturb the curve in + and - perturb vec.\n",
    "    # May be improved.\n",
    "    curvep = Curve(deepcopy(curve.list_of_points))\n",
    "    curvep[index] += perturbation_vec\n",
    "    curven = Curve(deepcopy(curve.list_of_points))\n",
    "    curven[index] -= perturbation_vec\n",
    "\n",
    "    energyP = curveEnergy(curvep)\n",
    "    energyN = curveEnergy(curven)\n",
    "    differential = (energyP - energyN) / 2\n",
    "    return differential"
   ]
  },
  {
   "cell_type": "code",
   "execution_count": 24,
   "metadata": {},
   "outputs": [],
   "source": [
    "points = []\n",
    "for i in range(4):\n",
    "    theta = 2 * np.pi / 4 * i\n",
    "    points.append(np.array([np.cos(theta), np.sin(theta), 0]))\n",
    "curve = Curve(points, True)"
   ]
  },
  {
   "cell_type": "code",
   "execution_count": 36,
   "metadata": {},
   "outputs": [
    {
     "data": {
      "text/plain": [
       "15.313708498984763"
      ]
     },
     "execution_count": 36,
     "metadata": {},
     "output_type": "execute_result"
    }
   ],
   "source": [
    "curveEnergy(curve)"
   ]
  },
  {
   "cell_type": "code",
   "execution_count": 47,
   "metadata": {},
   "outputs": [
    {
     "data": {
      "text/plain": [
       "0.3821129237404355"
      ]
     },
     "execution_count": 47,
     "metadata": {},
     "output_type": "execute_result"
    }
   ],
   "source": [
    "curveDifferential(curve, 0, np.array([0.1,0.0,0]))"
   ]
  },
  {
   "cell_type": "code",
   "execution_count": null,
   "metadata": {},
   "outputs": [],
   "source": []
  }
 ],
 "metadata": {
  "kernelspec": {
   "display_name": "Python 3",
   "language": "python",
   "name": "python3"
  },
  "language_info": {
   "codemirror_mode": {
    "name": "ipython",
    "version": 3
   },
   "file_extension": ".py",
   "mimetype": "text/x-python",
   "name": "python",
   "nbconvert_exporter": "python",
   "pygments_lexer": "ipython3",
   "version": "3.10.9"
  },
  "orig_nbformat": 4,
  "vscode": {
   "interpreter": {
    "hash": "e7370f93d1d0cde622a1f8e1c04877d8463912d04d973331ad4851f04de6915a"
   }
  }
 },
 "nbformat": 4,
 "nbformat_minor": 2
}
