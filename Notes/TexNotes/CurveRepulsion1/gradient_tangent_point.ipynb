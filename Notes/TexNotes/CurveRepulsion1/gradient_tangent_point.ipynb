{
 "cells": [
  {
   "cell_type": "code",
   "execution_count": null,
   "metadata": {},
   "outputs": [],
   "source": [
    "import sympy\n",
    "import sympy.vector\n",
    "# Pretty printing\n",
    "sympy.init_printing(use_unicode=True)\n",
    "# Default coordinate system to use.\n",
    "C = sympy.vector.CoordSys3D('C')"
   ]
  },
  {
   "cell_type": "code",
   "execution_count": null,
   "metadata": {},
   "outputs": [],
   "source": [
    "# Derivative of ||x_k - x_{k+1}|| wrt x_{k,n}\n",
    "xk1, xk2, xk3, xkp1, xkp2, xkp3 = sympy.symbols(\"x_{k;1} x_{k;2} x_{k;3} x_{k+1;1} x_{k+1;2} x_{k+1;3}\")\n",
    "normderivative = sympy.sqrt((xk1 - xkp1)**2 + (xk2 - xkp2)**2 + (xk3 - xkp3)**2)\n",
    "sympy.diff(normderivative, xk1)"
   ]
  },
  {
   "cell_type": "code",
   "execution_count": null,
   "metadata": {},
   "outputs": [],
   "source": [
    "# Index Test\n",
    "i, j, k = sympy.symbols('i j k')\n",
    "x = sympy.IndexedBase('x')\n",
    "x[i,j]"
   ]
  },
  {
   "cell_type": "code",
   "execution_count": null,
   "metadata": {},
   "outputs": [],
   "source": [
    "# Creating vector\n",
    "def vectorize(a, b, c):\n",
    "    return a * C.i + b * C.j + c * C.k\n",
    "\n",
    "# Norm\n",
    "def norm(v):\n",
    "    return sympy.sqrt(v.dot(v))\n",
    "\n",
    "u = vectorize(1,2,3)\n",
    "v = vectorize(4,5,6)\n",
    "u ^ v"
   ]
  },
  {
   "cell_type": "code",
   "execution_count": null,
   "metadata": {},
   "outputs": [],
   "source": [
    "# Kernel\n",
    "def kernelalphabeta(p, q, T, alpha, beta):\n",
    "    numerator = norm(T ^ (p - q)) ** alpha\n",
    "    denominator = norm(p - q) ** beta\n",
    "    return numerator / denominator\n",
    "\n",
    "# k[i,j]\n",
    "def quadratureKernel(xi, xj, xip1, xjp1, Ti, alpha, beta):\n",
    "    res = kernelalphabeta(xi, xj, Ti, alpha, beta)\n",
    "    res += kernelalphabeta(xi, xjp1, Ti, alpha, beta)\n",
    "    res += kernelalphabeta(xip1, xj, Ti, alpha, beta)\n",
    "    res += kernelalphabeta(xip1, xjp1, Ti, alpha, beta)\n",
    "    return res / 4\n",
    "\n",
    "\n",
    "p = vectorize(i, i, j)\n",
    "q = vectorize(j, i+1, j)\n",
    "T = vectorize(j, i, 3)\n",
    "kernelalphabeta(p, q, T, i, j)"
   ]
  },
  {
   "cell_type": "code",
   "execution_count": null,
   "metadata": {},
   "outputs": [],
   "source": []
  }
 ],
 "metadata": {
  "kernelspec": {
   "display_name": "Python 3",
   "language": "python",
   "name": "python3"
  },
  "language_info": {
   "codemirror_mode": {
    "name": "ipython",
    "version": 3
   },
   "file_extension": ".py",
   "mimetype": "text/x-python",
   "name": "python",
   "nbconvert_exporter": "python",
   "pygments_lexer": "ipython3",
   "version": "3.10.9"
  },
  "orig_nbformat": 4,
  "vscode": {
   "interpreter": {
    "hash": "767d51c1340bd893661ea55ea3124f6de3c7a262a8b4abca0554b478b1e2ff90"
   }
  }
 },
 "nbformat": 4,
 "nbformat_minor": 2
}
