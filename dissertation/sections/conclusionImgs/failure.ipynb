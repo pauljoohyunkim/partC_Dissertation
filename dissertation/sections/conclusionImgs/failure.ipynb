{
 "cells": [
  {
   "cell_type": "code",
   "execution_count": null,
   "metadata": {},
   "outputs": [],
   "source": [
    "import numpy as np\n",
    "import matplotlib.pyplot as plt\n",
    "import quadrature4\n",
    "import curve\n",
    "plt.rcParams[\"text.usetex\"] = True\n",
    "plt.rcParams[\"text.latex.preamble\"] = r\"\\usepackage{amsmath}\" + \"\\n\" + r\"\\usepackage{bm}\"\n",
    "#%matplotlib ipympl"
   ]
  },
  {
   "cell_type": "code",
   "execution_count": null,
   "metadata": {},
   "outputs": [],
   "source": [
    "# Zero Energy\n",
    "fig = plt.figure()\n",
    "ax = fig.add_subplot()\n",
    "sidelength=1\n",
    "height=0.2\n",
    "arrowLength=0.1\n",
    "arrowWidth=0.01\n",
    "parallelogram1 = curve.Curve(\n",
    "    [\n",
    "        np.array([0, 0, 0]),\n",
    "        np.array([sidelength, 0, 0]),\n",
    "        np.array([1.5*sidelength, height, 0]),\n",
    "        np.array([0.5, height, 0])\n",
    "    ]\n",
    ")\n",
    "curve.curvePlot(parallelogram1, ax=ax, xsize=(-0.5,2), ysize=(-0.5,0.5))\n",
    "quadrature4.energy(parallelogram1.list_of_points)\n",
    "ax.arrow(1.5, height, 0, -arrowLength, length_includes_head=True, width=arrowWidth)\n",
    "ax.arrow(0.5, height, 0, -arrowLength, length_includes_head=True, width=arrowWidth)\n",
    "ax.arrow(0, 0, 0, arrowLength, length_includes_head=True, width=arrowWidth)\n",
    "ax.arrow(1, 0, 0, arrowLength, length_includes_head=True, width=arrowWidth)\n"
   ]
  },
  {
   "cell_type": "code",
   "execution_count": null,
   "metadata": {},
   "outputs": [],
   "source": [
    "# Zero Energy Graph\n",
    "resolution=1000\n",
    "heights=np.linspace(0, 1, 1000)\n",
    "sidelength=1\n",
    "\n",
    "def generate_parallelogram(sidelength, height):\n",
    "    parallelogram = curve.Curve(\n",
    "        [\n",
    "            np.array([0, 0, 0]),\n",
    "            np.array([sidelength, 0, 0]),\n",
    "            np.array([1.5*sidelength, height, 0]),\n",
    "            np.array([0.5*sidelength, height, 0])\n",
    "        ]\n",
    "    )\n",
    "\n",
    "    return parallelogram\n",
    "\n",
    "def draw_arrow_along_function(x, fx, index, ax, lengthscale=0.01, color=\"magenta\"):\n",
    "    dx = x[index+1] - x[index]\n",
    "    dy = fx[index+1] - fx[index]\n",
    "    norm = (dx**2 + dy**2) ** 0.5\n",
    "    dx *= lengthscale / norm\n",
    "    dy *= lengthscale / norm\n",
    "    ax.arrow(x[index], fx[index], dx, dy, length_includes_head=True, lw=0, shape=\"full\", head_width=0.03, color=color)\n",
    "\n",
    "energies = []\n",
    "for height in heights:\n",
    "    parallelogram = generate_parallelogram(sidelength=1, height=height)\n",
    "    energies.append(quadrature4.energy(parallelogram.list_of_points))\n",
    "\n",
    "fig = plt.figure()\n",
    "ax = fig.add_subplot()\n",
    "ax.plot(heights, energies)\n",
    "ax.set_xlabel(\"Height of Parallelogram\")\n",
    "ax.set_ylabel(r\"$E_4^2 \\left( \\boldsymbol{\\Gamma}^k \\right)$\")\n",
    "for index in range(50, resolution, 100):\n",
    "    draw_arrow_along_function(heights, energies, index, ax, lengthscale=-0.001, color=\"blue\")\n",
    "plt.show()"
   ]
  },
  {
   "cell_type": "code",
   "execution_count": null,
   "metadata": {},
   "outputs": [],
   "source": []
  }
 ],
 "metadata": {
  "kernelspec": {
   "display_name": "Python 3",
   "language": "python",
   "name": "python3"
  },
  "language_info": {
   "codemirror_mode": {
    "name": "ipython",
    "version": 3
   },
   "file_extension": ".py",
   "mimetype": "text/x-python",
   "name": "python",
   "nbconvert_exporter": "python",
   "pygments_lexer": "ipython3",
   "version": "3.10.10"
  },
  "orig_nbformat": 4
 },
 "nbformat": 4,
 "nbformat_minor": 2
}
