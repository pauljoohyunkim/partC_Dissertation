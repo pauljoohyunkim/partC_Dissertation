{
 "cells": [
  {
   "cell_type": "code",
   "execution_count": null,
   "metadata": {},
   "outputs": [],
   "source": [
    "import numpy as np\n",
    "import quadrature4\n",
    "import curve\n",
    "import matplotlib.pyplot as plt\n",
    "import json"
   ]
  },
  {
   "cell_type": "code",
   "execution_count": null,
   "metadata": {},
   "outputs": [],
   "source": [
    "def figure8_generate(resolution=30, twist=0.2):\n",
    "    points = []\n",
    "    for i in range(resolution):\n",
    "        theta = 2 * np.pi / resolution * i\n",
    "        points.append(np.array([np.cos(theta), np.sin(2*theta), twist * np.sin(theta)]))\n",
    "    figure8 = curve.Curve(points)\n",
    "    return figure8"
   ]
  },
  {
   "cell_type": "code",
   "execution_count": null,
   "metadata": {},
   "outputs": [],
   "source": [
    "deltaT=0.004\n",
    "Lambda=0.01\n",
    "M=1000\n",
    "alpha=2"
   ]
  },
  {
   "cell_type": "code",
   "execution_count": null,
   "metadata": {},
   "outputs": [],
   "source": [
    "# L2 Gradient Flow\n",
    "figure8 = figure8_generate()\n",
    "\n",
    "deltaT=0.004\n",
    "Lambda=0.01\n",
    "M=1000\n",
    "curve = figure8\n",
    "L2Energies = []\n",
    "\n",
    "for t in range(M):\n",
    "    #print(f\"{t} / {M} ({t/M*100:.2f}%)\")\n",
    "    curve = curve - (quadrature4.dEnergy(curve, 2, 4)) * deltaT\n",
    "    L2Energies.append(quadrature4.energy(curve.list_of_points))\n",
    "    print(f\"Progress: {t} / {M}\")"
   ]
  },
  {
   "cell_type": "code",
   "execution_count": null,
   "metadata": {},
   "outputs": [],
   "source": [
    "# Save Progress\n",
    "with open(\"L2Energies.json\", \"w\") as file:\n",
    "    json.dump(L2Energies, file)\n",
    "    file.close()"
   ]
  },
  {
   "cell_type": "code",
   "execution_count": null,
   "metadata": {},
   "outputs": [],
   "source": [
    "#H1 Gradient Flow\n",
    "\n",
    "# Input curve, outputs matrix\n",
    "def laplacianMatrix(c, identityCoeff=1):\n",
    "    N = len(c)\n",
    "    L = np.zeros((N, N), dtype=np.float64)\n",
    "\n",
    "    edgeLengths = [c.edgeLength(i) for i in range(N)]\n",
    "    # Fill row\n",
    "    for i in range(N):\n",
    "        fi = 0.5 * np.linalg.norm(c[i+1] - c[i-1])\n",
    "        denominator = edgeLengths[i-1] * edgeLengths[i] * fi\n",
    "        L[i][i-1] = edgeLengths[i] / denominator\n",
    "        L[i][i] = - (edgeLengths[i-1] + edgeLengths[i]) / denominator\n",
    "        L[i][(i+1) % N] = edgeLengths[i-1] / denominator\n",
    "    \n",
    "    return L + identityCoeff * np.eye(N)\n",
    "\n",
    "figure8 = figure8_generate()\n",
    "alpha = 2\n",
    "beta = 4\n",
    "deltaT = 0.004\n",
    "identityCoeff = -0.1\n",
    "plotFreq = 100\n",
    "H1Energies = []\n",
    "\n",
    "# Plot\n",
    "for t in range(M):\n",
    "    # Compute derivative\n",
    "    dE = quadrature4.dEnergy(figure8, alpha, beta).list_of_points\n",
    "    # Solve Linear System\n",
    "    L = laplacianMatrix(figure8, identityCoeff=identityCoeff)\n",
    "    G = curve.Curve(np.linalg.solve(L, dE))\n",
    "    # Evolve\n",
    "    figure8 = G * deltaT + figure8\n",
    "    H1Energies.append(quadrature4.energy(figure8.list_of_points))\n",
    "    print(f\"Progress: {t} / {M}\")"
   ]
  },
  {
   "cell_type": "code",
   "execution_count": null,
   "metadata": {},
   "outputs": [],
   "source": [
    "# Save Progress\n",
    "with open(\"H1Energies.json\", \"w\") as file:\n",
    "    json.dump(H1Energies, file)\n",
    "    file.close()"
   ]
  },
  {
   "cell_type": "code",
   "execution_count": null,
   "metadata": {},
   "outputs": [],
   "source": [
    "fig = plt.figure()\n",
    "ax = fig.add_subplot()\n",
    "ax.plot(L2Energies, color=\"orange\")\n",
    "ax.plot(H1Energies, color=\"blue\")\n",
    "plt.show()"
   ]
  },
  {
   "cell_type": "code",
   "execution_count": null,
   "metadata": {},
   "outputs": [],
   "source": [
    "def curveFromFourierCoefficients(xa, xb, ya, yb, za, zb, resolution=90):\n",
    "    J = len(xa) - 1\n",
    "\n",
    "    def fourierFromCoefficient(an, bn):\n",
    "        return lambda x : an[0]/2 + sum([np.cos(i*x)*an[i] + np.sin(i*x)*bn[i] for i in range(1, J + 1)])\n",
    "    \n",
    "    fx = fourierFromCoefficient(xa, xb)\n",
    "    fy = fourierFromCoefficient(ya, yb)\n",
    "    fz = fourierFromCoefficient(za, zb)\n",
    "\n",
    "    points = []\n",
    "    for i in range(resolution):\n",
    "        theta = 2 * np.pi * i / resolution\n",
    "        points.append(np.array([\n",
    "            fx(theta),\n",
    "            fy(theta),\n",
    "            fz(theta)\n",
    "        ]))\n",
    "    \n",
    "    return curve.Curve(points)\n",
    "\n",
    "\n",
    "def curveFourierDifferential(xa, xb, ya, yb, za, zb, perturbation=0.001, resolution=90, energyFunction=quadrature4.energy):\n",
    "    J = len(xa) - 1\n",
    "\n",
    "    variables = np.concatenate([xa, xb, ya, yb, za, zb])\n",
    "    differential = np.zeros(len(variables), dtype=\"float64\")\n",
    "    for i in range(len(variables)):\n",
    "        temp = variables[i]\n",
    "        variables[i] += perturbation\n",
    "        xac, xbc, yac, ybc, zac, zbc = np.split(variables, 6)\n",
    "        tempCurve = curveFromFourierCoefficients(xac, xbc, yac, ybc, zac, zbc, resolution=resolution)\n",
    "        energyP = energyFunction(tempCurve.list_of_points)\n",
    "        variables[i] = temp\n",
    "        variables[i] -= perturbation\n",
    "        xac, xbc, yac, ybc, zac, zbc = np.split(variables, 6)\n",
    "        tempCurve = curveFromFourierCoefficients(xac, xbc, yac, ybc, zac, zbc, resolution=resolution)\n",
    "        energyN = energyFunction(tempCurve.list_of_points)\n",
    "        differential[i] = (energyP - energyN) / (2 * perturbation)\n",
    "        variables[i] = temp\n",
    "    \n",
    "    return differential"
   ]
  },
  {
   "cell_type": "code",
   "execution_count": null,
   "metadata": {},
   "outputs": [],
   "source": [
    "fourierEnergies = []\n",
    "xa = np.array([0.0, 1.0, 0.0])\n",
    "xb = np.array([0.0, 0.0, 0.0])\n",
    "ya = np.array([0.0, 0.0, 0.0])\n",
    "yb = np.array([0.0, 0.0, 1.0])\n",
    "za = np.array([0.0, 0.0, 0.0])\n",
    "zb = np.array([0.0, 0.2, 0.0])\n",
    "resolution = 30\n",
    "energyFunction = quadrature4.energy\n",
    "stepsize = 0.004\n",
    "\n",
    "x = np.concatenate([xa, xb, ya, yb, za, zb])\n",
    "xpoints = []\n",
    "ypoints = []\n",
    "zpoints = []\n",
    "for t in range(M):\n",
    "    xac, xbc, yac, ybc, zac, zbc = np.split(x, 6)\n",
    "    differential = curveFourierDifferential(\n",
    "        xac, xbc, yac, ybc, zac, zbc, perturbation=0.0001, resolution=resolution, energyFunction=energyFunction)\n",
    "    x = x - stepsize * differential\n",
    "\n",
    "    tempcurve = curveFromFourierCoefficients(\n",
    "        xac, xbc, yac, ybc, zac, zbc, resolution=resolution)\n",
    "    \n",
    "    fourierEnergies.append(quadrature4.energy(tempcurve.list_of_points))\n",
    "    \n",
    "    print(f\"Progress: {t} / {M}\")"
   ]
  },
  {
   "cell_type": "code",
   "execution_count": null,
   "metadata": {},
   "outputs": [],
   "source": [
    "with open(\"FourierEnergies.json\",\"w\") as file:\n",
    "    json.dump(fourierEnergies, file)\n",
    "    file.close()"
   ]
  },
  {
   "cell_type": "code",
   "execution_count": null,
   "metadata": {},
   "outputs": [],
   "source": []
  }
 ],
 "metadata": {
  "kernelspec": {
   "display_name": "Python 3",
   "language": "python",
   "name": "python3"
  },
  "language_info": {
   "codemirror_mode": {
    "name": "ipython",
    "version": 3
   },
   "file_extension": ".py",
   "mimetype": "text/x-python",
   "name": "python",
   "nbconvert_exporter": "python",
   "pygments_lexer": "ipython3",
   "version": "3.10.10"
  },
  "orig_nbformat": 4
 },
 "nbformat": 4,
 "nbformat_minor": 2
}
