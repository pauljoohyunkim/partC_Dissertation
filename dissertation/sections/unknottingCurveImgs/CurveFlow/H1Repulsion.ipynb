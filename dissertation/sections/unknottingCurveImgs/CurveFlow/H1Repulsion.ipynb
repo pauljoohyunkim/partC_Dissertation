{
 "cells": [
  {
   "cell_type": "code",
   "execution_count": null,
   "metadata": {},
   "outputs": [],
   "source": [
    "import numpy as np\n",
    "import curve\n",
    "import quadrature4\n",
    "import matplotlib.pyplot as plt\n",
    "#%matplotlib ipympl"
   ]
  },
  {
   "cell_type": "code",
   "execution_count": null,
   "metadata": {},
   "outputs": [],
   "source": [
    "# Figure-8\n",
    "points = []\n",
    "res = 30\n",
    "fig = plt.figure()\n",
    "ax = fig.add_subplot(projection=\"3d\")\n",
    "for i in range(res):\n",
    "    t = 2 * np.pi / res * i\n",
    "    points.append(\n",
    "        np.array([np.cos(t), np.sin(2*t), 0.2 * np.sin(t)])\n",
    "    )\n",
    "figure8 = curve.Curve(points)\n",
    "curve.curvePlot(figure8,ax)"
   ]
  },
  {
   "cell_type": "code",
   "execution_count": null,
   "metadata": {},
   "outputs": [],
   "source": [
    "# Input curve, outputs matrix\n",
    "def laplacianMatrix(c, identityCoeff=1):\n",
    "    N = len(c)\n",
    "    L = np.zeros((N, N), dtype=np.float64)\n",
    "\n",
    "    edgeLengths = [c.edgeLength(i) for i in range(N)]\n",
    "    # Fill row\n",
    "    for i in range(N):\n",
    "        fi = 0.5 * np.linalg.norm(c[i+1] - c[i-1])\n",
    "        denominator = edgeLengths[i-1] * edgeLengths[i] * fi\n",
    "        L[i][i-1] = edgeLengths[i] / denominator\n",
    "        L[i][i] = - (edgeLengths[i-1] + edgeLengths[i]) / denominator\n",
    "        L[i][(i+1) % N] = edgeLengths[i-1] / denominator\n",
    "    \n",
    "    return L + identityCoeff * np.eye(N)\n",
    "    "
   ]
  },
  {
   "cell_type": "code",
   "execution_count": null,
   "metadata": {},
   "outputs": [],
   "source": [
    "# H1 Gradient Flow\n",
    "#dE = quadrature4.dEnergy(figure8, 2, 4).list_of_points\n",
    "alpha = 2\n",
    "beta = 4\n",
    "T = 300\n",
    "deltaT = 0.004\n",
    "identityCoeff = -0.1\n",
    "plotFreq = 100\n",
    "\n",
    "# Plot\n",
    "graphicIndex=0\n",
    "for k in range(T):\n",
    "    # Compute derivative\n",
    "    dE = quadrature4.dEnergy(figure8, alpha, beta).list_of_points\n",
    "    # Solve Linear System\n",
    "    L = laplacianMatrix(figure8, identityCoeff=identityCoeff)\n",
    "    G = curve.Curve(np.linalg.solve(L, dE))\n",
    "    # Evolve\n",
    "    figure8 = G * deltaT + figure8\n",
    "    if k % plotFreq == 0:\n",
    "        fig = plt.figure()\n",
    "        ax1 = fig.add_subplot(projection=\"3d\")\n",
    "        curve.curvePlot(figure8, ax1)\n",
    "        ax1.set_xlim(-1.5, 1.5)\n",
    "        ax1.set_ylim(-1.5, 1.5)\n",
    "        ax1.set_zlim(-1.5, 1.5)\n",
    "        fig.savefig(f\"../figure8-H1-{graphicIndex}.png\", transparent=True)\n",
    "        plt.show()\n",
    "        graphicIndex += 1\n",
    "\n"
   ]
  },
  {
   "cell_type": "code",
   "execution_count": null,
   "metadata": {},
   "outputs": [],
   "source": []
  }
 ],
 "metadata": {
  "kernelspec": {
   "display_name": "Python 3",
   "language": "python",
   "name": "python3"
  },
  "language_info": {
   "codemirror_mode": {
    "name": "ipython",
    "version": 3
   },
   "file_extension": ".py",
   "mimetype": "text/x-python",
   "name": "python",
   "nbconvert_exporter": "python",
   "pygments_lexer": "ipython3",
   "version": "3.10.10"
  },
  "orig_nbformat": 4
 },
 "nbformat": 4,
 "nbformat_minor": 2
}
