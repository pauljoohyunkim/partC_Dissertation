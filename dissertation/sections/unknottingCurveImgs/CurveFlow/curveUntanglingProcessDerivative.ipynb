{
 "cells": [
  {
   "cell_type": "code",
   "execution_count": null,
   "metadata": {},
   "outputs": [],
   "source": [
    "import numpy as np\n",
    "import matplotlib.pyplot as plt\n",
    "import matplotlib.cm as cm\n",
    "from matplotlib.colors import Normalize\n",
    "from mpl_toolkits.mplot3d.axes3d import Axes3D\n",
    "from mpl_toolkits.mplot3d.proj3d import proj_transform\n",
    "from matplotlib.patches import FancyArrowPatch\n",
    "from curve import Curve, curvePlot\n",
    "import quadrature4\n",
    "import quadrature_minimal\n",
    "from copy import deepcopy\n",
    "import json\n",
    "DTYPE=\"float64\"\n",
    "plt.rcParams[\"text.usetex\"] = True\n",
    "plt.rcParams[\"text.latex.preamble\"] = r\"\\usepackage{bm}\" + \"\\n\" + r\"\\usepackage{amsmath}\"\n",
    "%matplotlib ipympl"
   ]
  },
  {
   "cell_type": "code",
   "execution_count": null,
   "metadata": {},
   "outputs": [],
   "source": [
    "points = []\n",
    "resolution = 40\n",
    "for i in range(resolution):\n",
    "    theta = 2 * np.pi / resolution * i\n",
    "    points.append(np.array([np.cos(theta), np.sin(2*theta), 0.2 * np.sin(theta)], dtype=DTYPE))\n",
    "figure8 = Curve(points)\n",
    "fig = plt.figure()\n",
    "ax = fig.add_subplot(projection=\"3d\")\n",
    "curvePlot(figure8, ax, title=\"$yolo$\")\n"
   ]
  },
  {
   "cell_type": "code",
   "execution_count": null,
   "metadata": {},
   "outputs": [],
   "source": [
    "# Arrows in 3D\n",
    "class Arrow3D(FancyArrowPatch):\n",
    "    def __init__(self, x, y, z, dx, dy, dz, *args, **kwargs):\n",
    "        super().__init__((0, 0), (0, 0), *args, **kwargs)\n",
    "        self._xyz = (x, y, z)\n",
    "        self._dxdydz = (dx, dy, dz)\n",
    "\n",
    "    def draw(self, renderer):\n",
    "        x1, y1, z1 = self._xyz\n",
    "        dx, dy, dz = self._dxdydz\n",
    "        x2, y2, z2 = (x1 + dx, y1 + dy, z1 + dz)\n",
    "\n",
    "        xs, ys, zs = proj_transform((x1, x2), (y1, y2), (z1, z2), self.axes.M)\n",
    "        self.set_positions((xs[0], ys[0]), (xs[1], ys[1]))\n",
    "        super().draw(renderer)\n",
    "        \n",
    "    def do_3d_projection(self, renderer=None):\n",
    "        x1, y1, z1 = self._xyz\n",
    "        dx, dy, dz = self._dxdydz\n",
    "        x2, y2, z2 = (x1 + dx, y1 + dy, z1 + dz)\n",
    "\n",
    "        xs, ys, zs = proj_transform((x1, x2), (y1, y2), (z1, z2), self.axes.M)\n",
    "        self.set_positions((xs[0], ys[0]), (xs[1], ys[1]))\n",
    "\n",
    "        return np.min(zs) \n",
    "    \n",
    "def _arrow3D(ax, x, y, z, dx, dy, dz, *args, **kwargs):\n",
    "    '''Add an 3d arrow to an `Axes3D` instance.'''\n",
    "\n",
    "    arrow = Arrow3D(x, y, z, dx, dy, dz, *args, **kwargs)\n",
    "    ax.add_artist(arrow)\n",
    "\n",
    "setattr(Axes3D, \"arrow3D\", _arrow3D)"
   ]
  },
  {
   "cell_type": "code",
   "execution_count": null,
   "metadata": {},
   "outputs": [],
   "source": [
    "# Derivative\n",
    "ALPHA=2\n",
    "BETA=4\n",
    "curve = figure8\n",
    "ARROWSCALE=0.3\n",
    "fig = plt.figure(dpi=300)\n",
    "ax = fig.add_subplot(projection=\"3d\")\n",
    "ax.view_init(elev=27, azim=-72)\n",
    "curvePlot(curve, ax)\n",
    "\n",
    "# Colors\n",
    "cmap = cm.Wistia\n",
    "l2Gradient = quadrature4.dEnergy(curve, ALPHA, BETA)\n",
    "l2GradientNorms = np.array([np.linalg.norm(l2Gradient[i]) for i in range(len(l2Gradient))])\n",
    "maxGradient = max(l2GradientNorms)\n",
    "l2GradientNorms = l2GradientNorms / maxGradient\n",
    "l2Gradient = l2Gradient * (-1/maxGradient)\n",
    "cmapNormalizer = Normalize(vmin=0, vmax=1)\n",
    "\n",
    "# Plot the vectors\n",
    "for i in range(len(l2Gradient)):\n",
    "    ax.arrow3D(curve[i][0], curve[i][1], curve[i][2], l2Gradient[i][0], l2Gradient[i][1], l2Gradient[i][2],\n",
    "               mutation_scale=3,\n",
    "               color=cmap(cmapNormalizer(l2GradientNorms[i])))\n",
    "\n",
    "ax.set_xlim(-1.5, 1.5)\n",
    "ax.set_ylim(-1.5, 1.5)\n",
    "ax.set_zlim(-1.5, 1.5)\n",
    "fig.colorbar(cm.ScalarMappable(norm=cmapNormalizer, cmap=cmap), ax=ax, orientation=\"horizontal\", label=r\"Relative Magnitude of $-\\text{Grad}_{L^2} \\boldsymbol{\\Gamma}^k$\")\n",
    "plt.show()\n",
    "\n",
    "#fig.savefig(\"../L2Derivative.png\", transparent=True)\n"
   ]
  },
  {
   "cell_type": "code",
   "execution_count": null,
   "metadata": {},
   "outputs": [],
   "source": []
  }
 ],
 "metadata": {
  "kernelspec": {
   "display_name": "Python 3 (ipykernel)",
   "language": "python",
   "name": "python3"
  },
  "language_info": {
   "codemirror_mode": {
    "name": "ipython",
    "version": 3
   },
   "file_extension": ".py",
   "mimetype": "text/x-python",
   "name": "python",
   "nbconvert_exporter": "python",
   "pygments_lexer": "ipython3",
   "version": "3.10.10"
  },
  "vscode": {
   "interpreter": {
    "hash": "e7370f93d1d0cde622a1f8e1c04877d8463912d04d973331ad4851f04de6915a"
   }
  }
 },
 "nbformat": 4,
 "nbformat_minor": 2
}
