{
 "cells": [
  {
   "cell_type": "code",
   "execution_count": null,
   "metadata": {},
   "outputs": [],
   "source": [
    "import numpy as np\n",
    "import quadrature4\n",
    "from curve import *\n",
    "DTYPE=\"float64\"\n",
    "#%matplotlib ipympl"
   ]
  },
  {
   "cell_type": "code",
   "execution_count": null,
   "metadata": {},
   "outputs": [],
   "source": [
    "points = []\n",
    "resolution = 30\n",
    "for i in range(resolution):\n",
    "    theta = 2 * np.pi / resolution * i\n",
    "    points.append(np.array([np.cos(theta), np.sin(2*theta), 0.2 * np.sin(theta)], dtype=DTYPE))\n",
    "figure8 = Curve(points)"
   ]
  },
  {
   "cell_type": "code",
   "execution_count": null,
   "metadata": {},
   "outputs": [],
   "source": [
    "# Gradient Flow\n",
    "deltaT=0.004\n",
    "Lambda=0.01\n",
    "M=300\n",
    "PLOTFREQ = 100\n",
    "curve = figure8\n",
    "\n",
    "graphicIndex = 0\n",
    "for t in range(M):\n",
    "    #print(f\"{t} / {M} ({t/M*100:.2f}%)\")\n",
    "    curve = curve - (quadrature4.dEnergy(curve, 2, 4)) * deltaT\n",
    "    if (t % PLOTFREQ == 0):\n",
    "        fig = plt.figure(dpi=300)\n",
    "        ax = fig.add_subplot(projection=\"3d\")\n",
    "        print(f\"Progress: {t} / {M}\")\n",
    "        #curvePlot(curve, ax, title=f\"{t} / {M} ({t/M*100:.2f}%)\")\n",
    "        curvePlot(curve, ax)\n",
    "        ax.set_xlim(-1.5,1.5)\n",
    "        ax.set_ylim(-1.5,1.5)\n",
    "        ax.set_zlim(-1.5,1.5)\n",
    "        fig.savefig(f\"../figure8-L2-{graphicIndex}.png\", transparent=True)\n",
    "        graphicIndex += 1\n",
    "\n",
    "        \n",
    "\n",
    "plt.show()"
   ]
  },
  {
   "cell_type": "code",
   "execution_count": null,
   "metadata": {},
   "outputs": [],
   "source": []
  }
 ],
 "metadata": {
  "kernelspec": {
   "display_name": "Python 3",
   "language": "python",
   "name": "python3"
  },
  "language_info": {
   "codemirror_mode": {
    "name": "ipython",
    "version": 3
   },
   "file_extension": ".py",
   "mimetype": "text/x-python",
   "name": "python",
   "nbconvert_exporter": "python",
   "pygments_lexer": "ipython3",
   "version": "3.10.10"
  },
  "orig_nbformat": 4
 },
 "nbformat": 4,
 "nbformat_minor": 2
}
