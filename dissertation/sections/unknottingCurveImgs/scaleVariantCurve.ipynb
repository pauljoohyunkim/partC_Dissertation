{
 "cells": [
  {
   "cell_type": "code",
   "execution_count": null,
   "metadata": {},
   "outputs": [],
   "source": [
    "import numpy as np\n",
    "import matplotlib.pyplot as plt\n",
    "import quadrature4\n",
    "import curve\n",
    "%matplotlib ipympl\n",
    "plt.rcParams[\"text.usetex\"] = True\n",
    "plt.rcParams[\"text.latex.preamble\"] = r\"\\usepackage{bm}\""
   ]
  },
  {
   "cell_type": "code",
   "execution_count": null,
   "metadata": {},
   "outputs": [],
   "source": [
    "def circleCurve(radius=1.0, resolution=100, z=0.0):\n",
    "    points = []\n",
    "    for i in range(resolution):\n",
    "        theta = 2 * np.pi / resolution * i\n",
    "        points.append(np.array([\n",
    "            radius * np.cos(theta),\n",
    "            radius * np.sin(theta),\n",
    "            z\n",
    "        ]))\n",
    "    return curve.Curve(points)\n"
   ]
  },
  {
   "cell_type": "code",
   "execution_count": null,
   "metadata": {},
   "outputs": [],
   "source": [
    "fig = plt.figure()\n",
    "ax = fig.add_subplot(projection=\"3d\")\n",
    "num_of_curves = 15\n",
    "res = 30\n",
    "curves = [circleCurve(i, res) for i in range(1, num_of_curves + 1)]\n",
    "energies = [quadrature4.energy(curves[i], alpha=2, beta=4.5) for i in range(num_of_curves)]\n",
    "# z limit\n",
    "ax.set_zlim(0, max(energies))\n",
    "ax.zaxis.set_rotate_label(False)\n",
    "ax.set_zlabel(r\"$\\mathcal{E}_{\\beta}^{\\alpha} \\left(\\boldsymbol{\\Gamma}\\right)$\", rotation=0)\n",
    "# Assign energy to be the z value\n",
    "for i in range(num_of_curves):\n",
    "    for j in range(res):\n",
    "        curves[i][j][2] = energies[i]\n",
    "\n",
    "for i in range(num_of_curves):\n",
    "    curve.curvePlot(curves[i], q2d=False, ax=ax)"
   ]
  },
  {
   "cell_type": "code",
   "execution_count": null,
   "metadata": {},
   "outputs": [],
   "source": [
    "energies"
   ]
  },
  {
   "cell_type": "code",
   "execution_count": null,
   "metadata": {},
   "outputs": [],
   "source": [
    "curves[2][0]"
   ]
  },
  {
   "cell_type": "code",
   "execution_count": null,
   "metadata": {},
   "outputs": [],
   "source": []
  }
 ],
 "metadata": {
  "kernelspec": {
   "display_name": "Python 3",
   "language": "python",
   "name": "python3"
  },
  "language_info": {
   "codemirror_mode": {
    "name": "ipython",
    "version": 3
   },
   "file_extension": ".py",
   "mimetype": "text/x-python",
   "name": "python",
   "nbconvert_exporter": "python",
   "pygments_lexer": "ipython3",
   "version": "3.10.9"
  },
  "orig_nbformat": 4
 },
 "nbformat": 4,
 "nbformat_minor": 2
}
