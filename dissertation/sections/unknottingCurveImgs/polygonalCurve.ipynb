{
 "cells": [
  {
   "cell_type": "code",
   "execution_count": null,
   "metadata": {},
   "outputs": [],
   "source": [
    "import numpy as np\n",
    "import matplotlib.pyplot as plt\n",
    "plt.rcParams[\"text.usetex\"] = True"
   ]
  },
  {
   "cell_type": "code",
   "execution_count": null,
   "metadata": {},
   "outputs": [],
   "source": [
    "polygonN = 11\n",
    "offsetScale=1.1\n",
    "fig1 = plt.figure()\n",
    "ax1 = fig1.add_subplot()\n",
    "polygonx = np.cos(np.linspace(0, 2*np.pi, polygonN + 1))\n",
    "polygony = np.sin(np.linspace(0, 2*np.pi, polygonN + 1))\n",
    "ax1.set_axis_off()\n",
    "ax1.set_aspect(\"equal\")\n",
    "ax1.plot(polygonx, polygony, \"--o\", alpha=0.4)\n",
    "for i in range(polygonN):\n",
    "    ax1.text(offsetScale * polygonx[i],offsetScale * polygony[i], r\"$\\mathbf{x}_\" + str(i) + r\"^t$\")\n",
    "\n",
    "# Non dashed lines:\n",
    "xEdgeIndex = 4\n",
    "ax1.plot([polygonx[xEdgeIndex],polygonx[xEdgeIndex+1]],[polygony[xEdgeIndex], polygony[xEdgeIndex+1]], \"-o\", color=\"m\")\n",
    "for i in range(polygonN):\n",
    "    if (i - xEdgeIndex) % polygonN > 1 and (i - xEdgeIndex + polygonN + 1) % polygonN > 1:\n",
    "        ax1.plot([polygonx[i], polygonx[i+1]],[polygony[i], polygony[i+1]], \"b-o\")\n",
    "\n",
    "\n",
    "plt.show()"
   ]
  },
  {
   "cell_type": "code",
   "execution_count": null,
   "metadata": {},
   "outputs": [],
   "source": [
    "def quadrature4Point(xEdgeIndex, quadratureIndex, ax=plt, color=\"#3f67d4\"):\n",
    "    indices = (\n",
    "        (xEdgeIndex, quadratureIndex),\n",
    "        (xEdgeIndex, quadratureIndex+1),\n",
    "        (xEdgeIndex+1, quadratureIndex),\n",
    "        (xEdgeIndex+1, quadratureIndex+1)\n",
    "    )\n",
    "    for i, j in indices:\n",
    "        ax.arrow(polygonx[i], polygony[i], polygonx[j]-polygonx[i], polygony[j]-polygony[i], color=color, length_includes_head=True)\n",
    "fig2 = plt.figure()\n",
    "ax2 = fig2.add_subplot()\n",
    "\n",
    "ax2.set_axis_off()\n",
    "ax2.set_aspect(\"equal\")\n",
    "ax2.plot(polygonx, polygony, \"--o\", alpha=0.4)\n",
    "for i in range(polygonN):\n",
    "    ax2.text(offsetScale * polygonx[i],offsetScale * polygony[i], r\"$\\mathbf{x}_\" + str(i) + r\"^t$\")\n",
    "\n",
    "# Non dashed lines:\n",
    "xEdgeIndex = 4\n",
    "quadratureIndex = 0\n",
    "ax2.plot([polygonx[xEdgeIndex],polygonx[xEdgeIndex+1]],[polygony[xEdgeIndex], polygony[xEdgeIndex+1]], \"-o\", color=\"m\")\n",
    "for i in range(polygonN):\n",
    "    if i == quadratureIndex:\n",
    "        continue\n",
    "    if (i - xEdgeIndex) % polygonN > 1 and (i - xEdgeIndex + polygonN + 1) % polygonN > 1:\n",
    "        ax2.plot([polygonx[i], polygonx[i+1]],[polygony[i], polygony[i+1]], \"b-o\")\n",
    "\n",
    "ax2.plot([polygonx[quadratureIndex], polygonx[quadratureIndex+1]],[polygony[quadratureIndex], polygony[quadratureIndex+1]], \"-o\", color=\"#04a4d9\")\n",
    "\n",
    "# Quadrature Line\n",
    "quadrature4Point(xEdgeIndex, quadratureIndex, ax2, \"#139407\")"
   ]
  },
  {
   "cell_type": "code",
   "execution_count": null,
   "metadata": {},
   "outputs": [],
   "source": []
  },
  {
   "cell_type": "code",
   "execution_count": null,
   "metadata": {},
   "outputs": [],
   "source": []
  }
 ],
 "metadata": {
  "kernelspec": {
   "display_name": "Python 3",
   "language": "python",
   "name": "python3"
  },
  "language_info": {
   "codemirror_mode": {
    "name": "ipython",
    "version": 3
   },
   "file_extension": ".py",
   "mimetype": "text/x-python",
   "name": "python",
   "nbconvert_exporter": "python",
   "pygments_lexer": "ipython3",
   "version": "3.10.9"
  },
  "orig_nbformat": 4
 },
 "nbformat": 4,
 "nbformat_minor": 2
}
