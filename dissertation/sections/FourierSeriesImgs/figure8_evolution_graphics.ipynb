{
 "cells": [
  {
   "cell_type": "code",
   "execution_count": null,
   "metadata": {},
   "outputs": [],
   "source": [
    "import numpy as np\n",
    "import matplotlib.pyplot as plt\n",
    "import json\n",
    "%matplotlib ipympl"
   ]
  },
  {
   "cell_type": "code",
   "execution_count": null,
   "metadata": {},
   "outputs": [],
   "source": [
    "# Load the data\n",
    "with open(\"figure8_x.json\",\"r\") as file:\n",
    "    xdata = json.load(file)\n",
    "    file.close()\n",
    "with open(\"figure8_y.json\",\"r\") as file:\n",
    "    ydata = json.load(file)\n",
    "    file.close()\n",
    "with open(\"figure8_z.json\",\"r\") as file:\n",
    "    zdata = json.load(file)\n",
    "    file.close()"
   ]
  },
  {
   "cell_type": "code",
   "execution_count": null,
   "metadata": {},
   "outputs": [],
   "source": [
    "# Number of Timestep\n",
    "M = len(xdata)/300\n",
    "\n",
    "graphicTimeSteps = np.linspace(0, M-1, 3, dtype=int)\n",
    "\n",
    "for i in range(len(graphicTimeSteps)):\n",
    "    t = graphicTimeSteps[i]\n",
    "    fig = plt.figure(dpi=300)\n",
    "    ax = fig.add_subplot(projection=\"3d\")\n",
    "\n",
    "    x = xdata[t]\n",
    "    y = ydata[t]\n",
    "    z = zdata[t]\n",
    "    x.append(x[0])\n",
    "    y.append(y[0])\n",
    "    z.append(z[0])\n",
    "\n",
    "    ax.set_xlim([-1,1])\n",
    "    ax.set_ylim([-1,1])\n",
    "    ax.set_zlim([-1,1])\n",
    "    #ax.set_xticklabels([])\n",
    "    #ax.set_yticklabels([])\n",
    "    #ax.set_zticklabels([])\n",
    "\n",
    "    ax.plot(x, y, z)\n",
    "    #ax.set_title(f\"{t}\")\n",
    "\n",
    "    fig.savefig(f\"Fourier{i}.png\", transparent=True)\n"
   ]
  },
  {
   "cell_type": "code",
   "execution_count": null,
   "metadata": {},
   "outputs": [],
   "source": []
  }
 ],
 "metadata": {
  "kernelspec": {
   "display_name": "Python 3",
   "language": "python",
   "name": "python3"
  },
  "language_info": {
   "codemirror_mode": {
    "name": "ipython",
    "version": 3
   },
   "file_extension": ".py",
   "mimetype": "text/x-python",
   "name": "python",
   "nbconvert_exporter": "python",
   "pygments_lexer": "ipython3",
   "version": "3.10.10"
  },
  "orig_nbformat": 4
 },
 "nbformat": 4,
 "nbformat_minor": 2
}
