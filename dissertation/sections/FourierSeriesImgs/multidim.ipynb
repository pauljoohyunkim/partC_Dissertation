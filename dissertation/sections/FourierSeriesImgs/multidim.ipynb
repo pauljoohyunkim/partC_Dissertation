{
 "cells": [
  {
   "cell_type": "code",
   "execution_count": null,
   "metadata": {},
   "outputs": [],
   "source": [
    "import numpy as np\n",
    "import matplotlib.pyplot as plt"
   ]
  },
  {
   "cell_type": "code",
   "execution_count": null,
   "metadata": {},
   "outputs": [],
   "source": [
    "t = np.linspace(0, 2 * np.pi, 100)\n",
    "X = np.cos(t) - 2*np.sin(2*t)\n",
    "Y = 0.7 * np.sin(t) - 0.7* np.cos(2*t)\n",
    "Z = -0.2 * np.cos(t) - np.sin(2*t)\n",
    "fig = plt.figure()\n",
    "fig.tight_layout()\n",
    "ax11 = fig.add_subplot(2, 2, 1, projection=\"3d\")\n",
    "ax11.plot(X,Y,Z)\n",
    "ax12 = fig.add_subplot(2, 2, 2)\n",
    "ax12.set_title(\"x\")\n",
    "ax12.plot(t, X)\n",
    "ax21 = fig.add_subplot(2, 2, 3)\n",
    "ax21.set_title(\"y\")\n",
    "ax21.plot(t, Y)\n",
    "ax22 = fig.add_subplot(2, 2, 4)\n",
    "ax22.set_title(\"z\")\n",
    "ax22.plot(t, Z)\n",
    "plt.show()"
   ]
  }
 ],
 "metadata": {
  "kernelspec": {
   "display_name": "Python 3",
   "language": "python",
   "name": "python3"
  },
  "language_info": {
   "codemirror_mode": {
    "name": "ipython",
    "version": 3
   },
   "file_extension": ".py",
   "mimetype": "text/x-python",
   "name": "python",
   "nbconvert_exporter": "python",
   "pygments_lexer": "ipython3",
   "version": "3.10.9"
  },
  "orig_nbformat": 4,
  "vscode": {
   "interpreter": {
    "hash": "e7370f93d1d0cde622a1f8e1c04877d8463912d04d973331ad4851f04de6915a"
   }
  }
 },
 "nbformat": 4,
 "nbformat_minor": 2
}
