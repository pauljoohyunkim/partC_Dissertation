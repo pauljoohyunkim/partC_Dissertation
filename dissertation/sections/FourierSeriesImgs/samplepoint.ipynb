{
 "cells": [
  {
   "cell_type": "code",
   "execution_count": null,
   "metadata": {},
   "outputs": [],
   "source": [
    "import numpy as np\n",
    "import matplotlib.pyplot as plt\n",
    "plt.rcParams[\"text.usetex\"] = True\n",
    "plt.rcParams[\"text.latex.preamble\"] = r\"\\usepackage{amsmath}\" + \"\\n\" + r\"\\usepackage{amssymb}\" + \"\\n\" + r\"\\usepackage{bm}\"\n",
    "%matplotlib ipympl\n",
    "N = 20"
   ]
  },
  {
   "cell_type": "code",
   "execution_count": null,
   "metadata": {},
   "outputs": [],
   "source": [
    "# Sample Points for S\n",
    "tS = np.linspace(0, 2 * np.pi, N)\n",
    "tZeroes = np.zeros(N)\n",
    "fig = plt.figure()\n",
    "axS = fig.add_subplot()\n",
    "#axS.set_aspect(\"equal\", adjustable=\"box\")\n",
    "axS.scatter(tS, tZeroes)"
   ]
  },
  {
   "cell_type": "code",
   "execution_count": null,
   "metadata": {},
   "outputs": [],
   "source": [
    "# Sample Points for L\n",
    "t = np.linspace(0, np.pi, N+1)\n",
    "tZeroes = np.zeros(N+1)\n",
    "tL = np.cos(t)\n",
    "fig = plt.figure(dpi=300)\n",
    "axL = fig.add_subplot()\n",
    "axL.set_aspect(\"equal\", adjustable=\"box\")\n",
    "unitcircle = plt.Circle((0,0), 1, fill=False, alpha=0.5)\n",
    "axL.add_patch(unitcircle)\n",
    "axL.scatter(tL, np.sin(t), alpha=0.5)\n",
    "axL.scatter(tL, tZeroes)\n",
    "axL.set_title(r\"Sample Points (Chebyshev Points) for $\\mathbb{L}$\")\n",
    "# Draw arrows\n",
    "for i in range(1, N):\n",
    "    axL.arrow(tL[i], np.sin(t)[i], 0, -np.sin(t)[i], width=0.01, length_includes_head=True, alpha=0.7)\n",
    "fig.savefig(\"ChebyshevPoints.png\", transparent=True)"
   ]
  },
  {
   "cell_type": "code",
   "execution_count": null,
   "metadata": {},
   "outputs": [],
   "source": [
    "fig = plt.figure()\n",
    "fig.subplots_adjust(left=0.1, bottom=0.1, right=0.9, top=0.9, wspace=0.4, hspace=0.4)\n",
    "\n",
    "ax11 = fig.add_subplot(1, 2, 1)\n",
    "tS = np.linspace(0, 2 * np.pi, N)\n",
    "tZeroes = np.zeros(N)\n",
    "#axS.set_aspect(\"equal\", adjustable=\"box\")\n",
    "ax11.scatter(tS, tZeroes)\n",
    "ax11.set_title(r\"Sample Points for $\\mathbb{S}$\")\n",
    "\n",
    "# Sample Points for L\n",
    "ax12 = fig.add_subplot(1, 2, 2)\n",
    "t = np.linspace(0, np.pi, N+1)\n",
    "tZeroes = np.zeros(N+1)\n",
    "tL = np.cos(t)\n",
    "unitcircle = plt.Circle((0,0), 1, fill=False, alpha=0.5)\n",
    "ax12.add_patch(unitcircle)\n",
    "ax12.scatter(tL, np.sin(t), alpha=0.5)\n",
    "ax12.scatter(tL, tZeroes)\n",
    "ax12.set_title(r\"Sample Points (Chebyshev Points) for $\\mathbb{L}$\")\n",
    "ax12.set_aspect(\"equal\", adjustable=\"box\")\n",
    "# Draw arrows\n",
    "for i in range(1, N):\n",
    "    ax12.arrow(tL[i], np.sin(t)[i], 0, -np.sin(t)[i], width=0.01, length_includes_head=True, alpha=0.7)\n",
    "\n"
   ]
  },
  {
   "cell_type": "code",
   "execution_count": null,
   "metadata": {},
   "outputs": [],
   "source": [
    "N=10\n",
    "smooth_curve_color = \"magenta\"\n",
    "cont_res = 1000\n",
    "fig = plt.figure(dpi=300)\n",
    "fig.subplots_adjust(left=0.1, bottom=0.1, right=0.9, top=0.9, wspace=0.4, hspace=0.4)\n",
    "\n",
    "ax11 = fig.add_subplot(1, 2, 1, projection=\"3d\")\n",
    "tS = np.linspace(0, 2 * np.pi, N)\n",
    "tZeroes = np.zeros(N)\n",
    "#axS.set_aspect(\"equal\", adjustable=\"box\")\n",
    "t = np.linspace(0, 2*np.pi, cont_res)\n",
    "tzeroes = np.zeros(cont_res)\n",
    "ax11.plot(np.cos(t), np.sin(t), tzeroes, alpha=0.5, color=smooth_curve_color)\n",
    "ax11.scatter(np.cos(tS), np.sin(tS), tZeroes)\n",
    "ax11.set_title(r\"Sample Points for $\\boldsymbol{\\gamma} \\in \\mathbb{S}$\")\n",
    "\n",
    "\n",
    "ax12 = fig.add_subplot(1, 2, 2, projection=\"3d\")\n",
    "t = np.linspace(0, np.pi, N+1)\n",
    "tL = np.cos(t)\n",
    "tZeroes = np.zeros(N+1)\n",
    "ax12.set_title(r\"Sample Points (Chebyshev Points) for $\\boldsymbol{\\gamma} \\in \\mathbb{L}$\")\n",
    "ax12.view_init(azim=-53, elev=45)\n",
    "x = lambda t: (1.1*t)**2 - 1\n",
    "y = lambda t: (1.1*t)**3 - 1.1*t\n",
    "z = lambda t: t\n",
    "cont_t = np.linspace(-1, 1, cont_res)\n",
    "X = x(cont_t)\n",
    "Y = y(cont_t)\n",
    "Z = z(cont_t)\n",
    "ax12.plot(X, Y, Z, alpha=0.5, color=smooth_curve_color)\n",
    "xp = x(tL)\n",
    "yp = y(tL)\n",
    "zp = z(tL)\n",
    "ax12.scatter(xp,yp,zp)\n",
    "X = x(cont_t)\n",
    "Y = y(cont_t)\n",
    "Z = z(cont_t)\n",
    "\n",
    "fig.savefig(\"SamplePointsOnCurves.png\", transparent=True)\n"
   ]
  },
  {
   "cell_type": "code",
   "execution_count": null,
   "metadata": {},
   "outputs": [],
   "source": []
  }
 ],
 "metadata": {
  "kernelspec": {
   "display_name": "Python 3",
   "language": "python",
   "name": "python3"
  },
  "language_info": {
   "codemirror_mode": {
    "name": "ipython",
    "version": 3
   },
   "file_extension": ".py",
   "mimetype": "text/x-python",
   "name": "python",
   "nbconvert_exporter": "python",
   "pygments_lexer": "ipython3",
   "version": "3.10.10"
  },
  "orig_nbformat": 4
 },
 "nbformat": 4,
 "nbformat_minor": 2
}
