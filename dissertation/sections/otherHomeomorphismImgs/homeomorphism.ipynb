{
 "cells": [
  {
   "cell_type": "code",
   "execution_count": null,
   "metadata": {},
   "outputs": [],
   "source": [
    "import numpy as np\n",
    "import matplotlib.pyplot as plt\n",
    "%matplotlib ipympl\n",
    "plt.rcParams[\"text.usetex\"] = True\n",
    "plt.rcParams[\"text.latex.preamble\"] = r\"\\usepackage{bm}\""
   ]
  },
  {
   "cell_type": "code",
   "execution_count": null,
   "metadata": {},
   "outputs": [],
   "source": [
    "# Curve\n",
    "res = 800\n",
    "lowres = 10\n",
    "t = np.linspace(0, 2*np.pi, res)\n",
    "t_lowres = np.linspace(0, 2*np.pi, lowres)\n",
    "fig = plt.figure(dpi=200)\n",
    "ax1 = fig.add_subplot(projection=\"3d\")\n",
    "ax1.set_axis_off()\n",
    "ax1.view_init(elev=27, azim=-61)\n",
    "curve = [\n",
    "    t,\n",
    "    np.cos(t),\n",
    "    np.sin(t)\n",
    "]\n",
    "branch1 = [\n",
    "    t_lowres[2] + 0.3*np.sin(t),\n",
    "    np.cos(t_lowres[2]) - 0.5*t,\n",
    "    np.sin(t_lowres[2]) + 0.1*np.sin(t)\n",
    "]\n",
    "branch2 = [\n",
    "    t_lowres[5] + 0.7*t,\n",
    "    np.cos(t_lowres[5]) + np.sin(t),\n",
    "    np.sin(t_lowres[5]) + 0.4*np.sin(t)\n",
    "]\n",
    "branch3 = [\n",
    "    t_lowres[8] + 1.2*t,\n",
    "    np.cos(t_lowres[8]) - 0.5*np.sin(t),\n",
    "    np.sin(t_lowres[8]) + 1.3*np.sin(t)\n",
    "]\n",
    "#ax1.set_axis_off()\n",
    "curveColor = \"b\"\n",
    "ax1.text(0.5, 1, 0, r\"$\\boldsymbol\\Gamma$\")\n",
    "ax1.plot(curve[0], curve[1], curve[2], color=curveColor, linewidth=4)\n",
    "ax1.plot(branch1[0], branch1[1], branch1[2], color=curveColor)\n",
    "ax1.plot(branch2[0], branch2[1], branch2[2], color=curveColor)\n",
    "ax1.plot(branch3[0], branch3[1], branch3[2], color=curveColor)\n",
    "curve_low = [\n",
    "    t_lowres,\n",
    "    np.cos(t_lowres),\n",
    "    np.sin(t_lowres)\n",
    "]\n",
    "branch1_low = [\n",
    "    t_lowres[2] + 0.3*np.sin(t_lowres),\n",
    "    np.cos(t_lowres[2]) - 0.5*t_lowres,\n",
    "    np.sin(t_lowres[2]) + 0.1*np.sin(t_lowres)\n",
    "]\n",
    "branch2_low = [\n",
    "    t_lowres[5] + 0.7*t_lowres,\n",
    "    np.cos(t_lowres[5]) + np.sin(t_lowres),\n",
    "    np.sin(t_lowres[5]) + 0.4*np.sin(t_lowres)\n",
    "]\n",
    "branch3_low = [\n",
    "    t_lowres[8] + 1.2*t_lowres,\n",
    "    np.cos(t_lowres[8]) - 0.5*np.sin(t_lowres),\n",
    "    np.sin(t_lowres[8]) + 1.3*np.sin(t_lowres)\n",
    "]\n",
    "\n",
    "lowresAlpha=0.6\n",
    "ax1.plot(curve_low[0], curve_low[1], curve_low[2], \"-o\", alpha=lowresAlpha)\n",
    "ax1.plot(branch1_low[0], branch1_low[1], branch1_low[2], \"-o\", alpha=lowresAlpha)\n",
    "ax1.plot(branch2_low[0], branch2_low[1], branch2_low[2], \"-o\", alpha=lowresAlpha)\n",
    "ax1.plot(branch3_low[0], branch3_low[1], branch3_low[2], \"-o\", alpha=lowresAlpha)\n",
    "plt.show()\n",
    "\n",
    "fig.savefig(\"branch.png\", transparent=True)"
   ]
  },
  {
   "cell_type": "code",
   "execution_count": null,
   "metadata": {},
   "outputs": [],
   "source": []
  }
 ],
 "metadata": {
  "kernelspec": {
   "display_name": "Python 3",
   "language": "python",
   "name": "python3"
  },
  "language_info": {
   "codemirror_mode": {
    "name": "ipython",
    "version": 3
   },
   "file_extension": ".py",
   "mimetype": "text/x-python",
   "name": "python",
   "nbconvert_exporter": "python",
   "pygments_lexer": "ipython3",
   "version": "3.10.9"
  },
  "orig_nbformat": 4
 },
 "nbformat": 4,
 "nbformat_minor": 2
}
