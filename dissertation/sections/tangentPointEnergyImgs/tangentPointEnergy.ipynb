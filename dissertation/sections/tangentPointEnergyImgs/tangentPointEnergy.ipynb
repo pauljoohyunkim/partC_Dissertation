{
 "cells": [
  {
   "cell_type": "code",
   "execution_count": null,
   "metadata": {},
   "outputs": [],
   "source": [
    "import numpy as np\n",
    "import matplotlib.pyplot as plt\n",
    "import sympy\n",
    "import sympy.vector\n",
    "C = sympy.vector.CoordSys3D('C')"
   ]
  },
  {
   "cell_type": "code",
   "execution_count": null,
   "metadata": {},
   "outputs": [],
   "source": [
    "aValue = 1\n",
    "bValue = 1.2\n",
    "tValue = 3 * np.pi / 2"
   ]
  },
  {
   "cell_type": "code",
   "execution_count": null,
   "metadata": {},
   "outputs": [],
   "source": [
    "t, a, b = sympy.symbols('t a b')\n",
    "M = 2 * a**2 * sympy.cos(2*t) + 2 * sympy.sqrt(-a**4 + b**4 + a**4 * sympy.cos(2*t)**2)\n",
    "x = M * sympy.cos(t)\n",
    "y = 2 * M * sympy.sin(t)"
   ]
  },
  {
   "cell_type": "code",
   "execution_count": null,
   "metadata": {},
   "outputs": [],
   "source": [
    "dx = sympy.diff(x, t)\n",
    "dy = sympy.diff(y, t)\n",
    "ds = sympy.sqrt(dx ** 2 + dy ** 2)"
   ]
  },
  {
   "cell_type": "code",
   "execution_count": null,
   "metadata": {},
   "outputs": [],
   "source": [
    "evalPairs = [\n",
    "    (sympy.symbols('a'), aValue),\n",
    "    (sympy.symbols('b'), bValue),\n",
    "]"
   ]
  },
  {
   "cell_type": "code",
   "execution_count": null,
   "metadata": {},
   "outputs": [],
   "source": [
    "# tP is the argument for point P\n",
    "# n is the normal in the direction inward.\n",
    "tP = 3 * np.pi / 2\n",
    "P = x.subs(evalPairs).subs(sympy.symbols('t'), tP) * C.i + y.subs(evalPairs).subs(sympy.symbols('t'), tP) * C.j\n",
    "n = ((-dy * C.i + dx * C.j) / ds).subs(evalPairs).subs(sympy.symbols('t'), tP)"
   ]
  },
  {
   "cell_type": "code",
   "execution_count": null,
   "metadata": {},
   "outputs": [],
   "source": [
    "def norm(symvec):\n",
    "    l = symvec.dot(symvec) ** 0.5\n",
    "    return l\n",
    "\n",
    "norm(n.subs(evalPairs).subs(sympy.symbols('t'), tP))"
   ]
  },
  {
   "cell_type": "code",
   "execution_count": null,
   "metadata": {},
   "outputs": [],
   "source": [
    "# tQ is the argument for point Q\n",
    "# alpha is the radius of the circle\n",
    "tQ = np.pi / 5\n",
    "Q = x.subs(evalPairs).subs(sympy.symbols('t'), tQ) * C.i + y.subs(evalPairs).subs(sympy.symbols('t'), tQ) * C.j\n",
    "alpha = sympy.symbols('alpha')"
   ]
  },
  {
   "cell_type": "code",
   "execution_count": null,
   "metadata": {},
   "outputs": [],
   "source": [
    "# Radius\n",
    "alphaVal = sympy.solve(norm(P + alpha * n - Q) - alpha, alpha)[0]"
   ]
  },
  {
   "cell_type": "code",
   "execution_count": null,
   "metadata": {},
   "outputs": [],
   "source": [
    "def plotSinglePoint(pointVec, axes):\n",
    "    xval = pointVec.coeff(C.i)\n",
    "    yval = pointVec.coeff(C.j)\n",
    "    axes.plot([xval], [yval], marker=\"o\")"
   ]
  },
  {
   "cell_type": "code",
   "execution_count": null,
   "metadata": {},
   "outputs": [],
   "source": [
    "#Cassini Oval\n",
    "t = np.linspace(0, 2 * np.pi, 100)\n",
    "aValue = 1\n",
    "bValue = 1.2\n",
    "M = lambda x : 2 * aValue**2 * np.cos(2*x) + 2 * np.sqrt(-aValue**4 + bValue**4 + aValue**4 * np.cos(2*x)**2)\n",
    "X = M(t) * np.cos(t)\n",
    "Y = 2 * M(t) * np.sin(t)\n",
    "fig = plt.figure()\n",
    "ax = fig.add_subplot()\n",
    "#ax.axis('off')\n",
    "plt.xlim(-7,7)\n",
    "plt.ylim(-7,7)\n",
    "plt.plot(X,Y)\n",
    "plotSinglePoint(P, ax)\n",
    "plotSinglePoint(Q, ax)\n",
    "plt.show()"
   ]
  },
  {
   "cell_type": "code",
   "execution_count": null,
   "metadata": {},
   "outputs": [],
   "source": []
  }
 ],
 "metadata": {
  "kernelspec": {
   "display_name": "Python 3",
   "language": "python",
   "name": "python3"
  },
  "language_info": {
   "codemirror_mode": {
    "name": "ipython",
    "version": 3
   },
   "file_extension": ".py",
   "mimetype": "text/x-python",
   "name": "python",
   "nbconvert_exporter": "python",
   "pygments_lexer": "ipython3",
   "version": "3.10.9"
  },
  "orig_nbformat": 4,
  "vscode": {
   "interpreter": {
    "hash": "e7370f93d1d0cde622a1f8e1c04877d8463912d04d973331ad4851f04de6915a"
   }
  }
 },
 "nbformat": 4,
 "nbformat_minor": 2
}
