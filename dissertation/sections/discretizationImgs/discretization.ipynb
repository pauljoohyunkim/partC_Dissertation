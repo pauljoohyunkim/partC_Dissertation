{
 "cells": [
  {
   "cell_type": "code",
   "execution_count": null,
   "metadata": {},
   "outputs": [],
   "source": [
    "import numpy as np\n",
    "import matplotlib.pyplot as plt\n",
    "%matplotlib ipympl"
   ]
  },
  {
   "cell_type": "code",
   "execution_count": null,
   "metadata": {},
   "outputs": [],
   "source": [
    "resolution = 1000\n",
    "lowresolution = 20\n",
    "t = np.linspace(0, 2*np.pi, resolution)\n",
    "t_lowres = np.linspace(0, 2*np.pi, lowresolution)\n",
    "x = lambda t: np.cos(t)\n",
    "y = lambda t: np.sin(t)\n",
    "z = lambda t: np.cos(2*t)\n",
    "fig = plt.figure(dpi=300)\n",
    "ax = fig.add_subplot(projection=\"3d\")\n",
    "ax.plot(x(t), y(t), z(t))\n",
    "ax.plot(x(t_lowres), y(t_lowres), z(t_lowres), \"o-\", alpha=0.7)\n",
    "plt.show()\n",
    "fig.savefig(input(), transparent=True)"
   ]
  },
  {
   "cell_type": "code",
   "execution_count": null,
   "metadata": {},
   "outputs": [],
   "source": []
  }
 ],
 "metadata": {
  "kernelspec": {
   "display_name": "Python 3",
   "language": "python",
   "name": "python3"
  },
  "language_info": {
   "codemirror_mode": {
    "name": "ipython",
    "version": 3
   },
   "file_extension": ".py",
   "mimetype": "text/x-python",
   "name": "python",
   "nbconvert_exporter": "python",
   "pygments_lexer": "ipython3",
   "version": "3.10.9"
  },
  "orig_nbformat": 4,
  "vscode": {
   "interpreter": {
    "hash": "767d51c1340bd893661ea55ea3124f6de3c7a262a8b4abca0554b478b1e2ff90"
   }
  }
 },
 "nbformat": 4,
 "nbformat_minor": 2
}
