{
 "cells": [
  {
   "cell_type": "code",
   "execution_count": null,
   "metadata": {},
   "outputs": [],
   "source": [
    "import numpy as np\n",
    "import matplotlib.pyplot as plt\n",
    "import random as rd\n",
    "%matplotlib ipympl"
   ]
  },
  {
   "cell_type": "code",
   "execution_count": null,
   "metadata": {},
   "outputs": [],
   "source": [
    "res = 1000\n",
    "structure_thickness=7.0\n",
    "t = np.linspace(0, 2 * np.pi, res)\n",
    "s = np.linspace(0, 1, res)\n",
    "t, s = np.meshgrid(t, s)\n",
    "X = s * np.cos(t) + (1-s) * np.cos(t + np.pi)\n",
    "Y = s * np.sin(t) + (1-s) * np.sin(t + np.pi)\n",
    "Z = 2 * t - np.pi\n",
    "fig = plt.figure(dpi=200)\n",
    "fig.subplots_adjust(left=0.1, bottom=0.1, right=1, top=1.0, wspace=0.1, hspace=0.1)\n",
    "ax = fig.add_subplot(122, projection=\"3d\")\n",
    "ax.plot_surface(X, Y, Z, antialiased=False, alpha=1.0)\n",
    "t = np.linspace(0, 2 * np.pi, res)\n",
    "struct1 = [np.cos(t), np.sin(t), 2 * t - np.pi]\n",
    "struct2 = [np.cos(t + np.pi), np.sin(t + np.pi), 2 * t - np.pi]\n",
    "ax.plot(struct1[0], struct1[1], struct1[2], linewidth=structure_thickness, color=\"orange\")\n",
    "ax.plot(struct2[0], struct2[1], struct2[2], linewidth=structure_thickness, color=\"orchid\")\n",
    "\n",
    "plotsize=3\n",
    "ax.set_xlim((-plotsize, plotsize))\n",
    "ax.set_ylim((-plotsize, plotsize))\n",
    "ax.set_zlim((-plotsize, plotsize))\n",
    "ax.view_init(azim=-103, elev=34)\n",
    "ax.set_title(\"Membrane\")\n",
    "#ax.set_xticks([])\n",
    "#ax.set_yticks([])\n",
    "#ax.set_zticks([])\n",
    "\n",
    "ax2 = fig.add_subplot(121, projection=\"3d\")\n",
    "# DNA Structure Overlay\n",
    "t = np.linspace(0, 2 * np.pi, res)\n",
    "structure_thickness=7.0\n",
    "bar_thickness=3.0\n",
    "num_of_pairs=20\n",
    "struct1 = [np.cos(t), np.sin(t), 2 * t - np.pi]\n",
    "struct2 = [np.cos(t + np.pi), np.sin(t + np.pi), 2 * t - np.pi]\n",
    "ax2.plot(struct1[0], struct1[1], struct1[2], linewidth=structure_thickness, color=\"orange\")\n",
    "ax2.plot(struct2[0], struct2[1], struct2[2], linewidth=structure_thickness, color=\"orchid\")\n",
    "for i in range(num_of_pairs):\n",
    "    # AT, GC\n",
    "    color1, color2 = rd.choice([(\"red\",\"green\"), (\"magenta\",\"blue\"), (\"green\",\"red\"), (\"blue\",\"magenta\")])\n",
    "    t = 2 * np.pi / num_of_pairs * i\n",
    "    ax2.plot((np.cos(t), 0.5 * np.cos(t) + 0.5 * np.cos(t + np.pi)),\n",
    "            (np.sin(t), 0.5 * np.sin(t) + 0.5 * np.sin(t + np.pi)),\n",
    "            (2 * t - np.pi, 2 * t - np.pi), color=color1, linewidth=bar_thickness)\n",
    "    ax2.plot((0.5 * np.cos(t) + 0.5 * np.cos(t + np.pi), np.cos(t + np.pi)),\n",
    "            (0.5 * np.sin(t) + 0.5 * np.sin(t + np.pi), np.sin(t + np.pi)),\n",
    "            (2 * t - np.pi, 2 * t - np.pi), color=color2, linewidth=bar_thickness)\n",
    "ax2.set_xlim((-plotsize, plotsize))\n",
    "ax2.set_ylim((-plotsize, plotsize))\n",
    "ax2.set_zlim((-plotsize, plotsize))\n",
    "ax2.view_init(azim=-103, elev=34)\n",
    "ax2.set_title(\"DNA\")\n"
   ]
  },
  {
   "cell_type": "code",
   "execution_count": null,
   "metadata": {},
   "outputs": [],
   "source": []
  }
 ],
 "metadata": {
  "kernelspec": {
   "display_name": "Python 3",
   "language": "python",
   "name": "python3"
  },
  "language_info": {
   "codemirror_mode": {
    "name": "ipython",
    "version": 3
   },
   "file_extension": ".py",
   "mimetype": "text/x-python",
   "name": "python",
   "nbconvert_exporter": "python",
   "pygments_lexer": "ipython3",
   "version": "3.10.10"
  },
  "orig_nbformat": 4
 },
 "nbformat": 4,
 "nbformat_minor": 2
}
